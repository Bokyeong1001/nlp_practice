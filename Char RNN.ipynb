{
 "cells": [
  {
   "cell_type": "code",
   "execution_count": 1,
   "id": "scenic-affiliation",
   "metadata": {},
   "outputs": [],
   "source": [
    "import numpy as np\n",
    "import urllib.request\n",
    "from tensorflow.keras.utils import to_categorical"
   ]
  },
  {
   "cell_type": "code",
   "execution_count": 2,
   "id": "dominant-restriction",
   "metadata": {},
   "outputs": [],
   "source": [
    "urllib.request.urlretrieve(\"http://www.gutenberg.org/files/11/11-0.txt\", filename=\"11-0.txt\")\n",
    "f = open('11-0.txt', 'rb')\n",
    "lines=[]\n",
    "for line in f: # 데이터를 한 줄씩 읽는다.\n",
    "    line=line.strip() # strip()을 통해 \\r, \\n을 제거한다.\n",
    "    line=line.lower() # 소문자화.\n",
    "    line=line.decode('ascii', 'ignore') # \\xe2\\x80\\x99 등과 같은 바이트 열 제거\n",
    "    if len(line) > 0:\n",
    "        lines.append(line)\n",
    "f.close()"
   ]
  },
  {
   "cell_type": "code",
   "execution_count": 3,
   "id": "smart-sender",
   "metadata": {},
   "outputs": [
    {
     "data": {
      "text/plain": [
       "['the project gutenberg ebook of alices adventures in wonderland, by lewis carroll',\n",
       " 'this ebook is for the use of anyone anywhere in the united states and most',\n",
       " 'other parts of the world at no cost and with almost no restrictions',\n",
       " 'whatsoever.  you may copy it, give it away or re-use it under the terms of',\n",
       " 'the project gutenberg license included with this ebook or online at']"
      ]
     },
     "execution_count": 3,
     "metadata": {},
     "output_type": "execute_result"
    }
   ],
   "source": [
    "lines[:5]"
   ]
  },
  {
   "cell_type": "code",
   "execution_count": 4,
   "id": "responsible-reputation",
   "metadata": {},
   "outputs": [
    {
     "name": "stdout",
     "output_type": "stream",
     "text": [
      "문자열의 길이 또는 총 글자의 개수: 159821\n"
     ]
    }
   ],
   "source": [
    "text = ' '.join(lines)\n",
    "print('문자열의 길이 또는 총 글자의 개수: %d' % len(text))"
   ]
  },
  {
   "cell_type": "code",
   "execution_count": 5,
   "id": "overall-theater",
   "metadata": {},
   "outputs": [
    {
     "name": "stdout",
     "output_type": "stream",
     "text": [
      "the project gutenberg ebook of alices adventures in wonderland, by lewis carroll this ebook is for the use of anyone anywhere in the united states and most other parts of the world at no cost and with\n"
     ]
    }
   ],
   "source": [
    "print(text[:200])"
   ]
  },
  {
   "cell_type": "code",
   "execution_count": 6,
   "id": "canadian-purple",
   "metadata": {},
   "outputs": [
    {
     "name": "stdout",
     "output_type": "stream",
     "text": [
      "글자 집합의 크기 : 57\n"
     ]
    }
   ],
   "source": [
    "char_vocab = sorted(list(set(text)))\n",
    "vocab_size=len(char_vocab)\n",
    "print ('글자 집합의 크기 : {}'.format(vocab_size))"
   ]
  },
  {
   "cell_type": "code",
   "execution_count": 7,
   "id": "interesting-suite",
   "metadata": {},
   "outputs": [
    {
     "name": "stdout",
     "output_type": "stream",
     "text": [
      "{' ': 0, '!': 1, '\"': 2, '#': 3, '$': 4, '%': 5, \"'\": 6, '(': 7, ')': 8, '*': 9, ',': 10, '-': 11, '.': 12, '/': 13, '0': 14, '1': 15, '2': 16, '3': 17, '4': 18, '5': 19, '6': 20, '7': 21, '8': 22, '9': 23, ':': 24, ';': 25, '?': 26, '@': 27, '[': 28, ']': 29, '_': 30, 'a': 31, 'b': 32, 'c': 33, 'd': 34, 'e': 35, 'f': 36, 'g': 37, 'h': 38, 'i': 39, 'j': 40, 'k': 41, 'l': 42, 'm': 43, 'n': 44, 'o': 45, 'p': 46, 'q': 47, 'r': 48, 's': 49, 't': 50, 'u': 51, 'v': 52, 'w': 53, 'x': 54, 'y': 55, 'z': 56}\n"
     ]
    }
   ],
   "source": [
    "char_to_index = dict((c, i) for i, c in enumerate(char_vocab)) # 글자에 고유한 정수 인덱스 부여\n",
    "print(char_to_index)"
   ]
  },
  {
   "cell_type": "code",
   "execution_count": 8,
   "id": "constitutional-emergency",
   "metadata": {},
   "outputs": [],
   "source": [
    "index_to_char={}\n",
    "for key, value in char_to_index.items():\n",
    "    index_to_char[value] = key"
   ]
  },
  {
   "cell_type": "code",
   "execution_count": 9,
   "id": "heard-elements",
   "metadata": {},
   "outputs": [
    {
     "name": "stdout",
     "output_type": "stream",
     "text": [
      "문장 샘플의 수 : 2663\n"
     ]
    }
   ],
   "source": [
    "seq_length = 60 # 문장의 길이를 60으로 한다.\n",
    "n_samples = int(np.floor((len(text) - 1) / seq_length)) # 문자열을 60등분한다. 그러면 즉, 총 샘플의 개수\n",
    "print ('문장 샘플의 수 : {}'.format(n_samples))"
   ]
  },
  {
   "cell_type": "code",
   "execution_count": 10,
   "id": "distinct-vertex",
   "metadata": {},
   "outputs": [],
   "source": [
    "train_X = []\n",
    "train_y = []\n",
    "\n",
    "for i in range(n_samples): # 2,646번 수행\n",
    "    X_sample = text[i * seq_length: (i + 1) * seq_length]\n",
    "    # 0:60 -> 60:120 -> 120:180로 loop를 돌면서 문장 샘플을 1개씩 가져온다.\n",
    "    X_encoded = [char_to_index[c] for c in X_sample] # 하나의 문장 샘플에 대해서 정수 인코딩\n",
    "    train_X.append(X_encoded)\n",
    "\n",
    "    y_sample = text[i * seq_length + 1: (i + 1) * seq_length + 1] # 오른쪽으로 1칸 쉬프트한다.\n",
    "    y_encoded = [char_to_index[c] for c in y_sample]\n",
    "    train_y.append(y_encoded)"
   ]
  },
  {
   "cell_type": "code",
   "execution_count": 11,
   "id": "foreign-diagram",
   "metadata": {},
   "outputs": [],
   "source": [
    "train_X = to_categorical(train_X)\n",
    "train_y = to_categorical(train_y)"
   ]
  },
  {
   "cell_type": "code",
   "execution_count": 12,
   "id": "equal-leave",
   "metadata": {},
   "outputs": [
    {
     "name": "stdout",
     "output_type": "stream",
     "text": [
      "train_X의 크기(shape) : (2663, 60, 57)\n",
      "train_y의 크기(shape) : (2663, 60, 57)\n"
     ]
    }
   ],
   "source": [
    "print('train_X의 크기(shape) : {}'.format(train_X.shape)) # 원-핫 인코딩\n",
    "print('train_y의 크기(shape) : {}'.format(train_y.shape)) # 원-핫 인코딩"
   ]
  },
  {
   "cell_type": "code",
   "execution_count": 13,
   "id": "voluntary-spanish",
   "metadata": {},
   "outputs": [],
   "source": [
    "from tensorflow.keras.models import Sequential\n",
    "from tensorflow.keras.layers import Dense, LSTM, TimeDistributed"
   ]
  },
  {
   "cell_type": "code",
   "execution_count": 14,
   "id": "recognized-february",
   "metadata": {},
   "outputs": [],
   "source": [
    "model = Sequential()\n",
    "model.add(LSTM(256, input_shape=(None, train_X.shape[2]), return_sequences=True))\n",
    "model.add(LSTM(256, return_sequences=True))\n",
    "model.add(TimeDistributed(Dense(vocab_size, activation='softmax')))"
   ]
  },
  {
   "cell_type": "code",
   "execution_count": 16,
   "id": "psychological-motorcycle",
   "metadata": {},
   "outputs": [
    {
     "name": "stdout",
     "output_type": "stream",
     "text": [
      "Epoch 1/80\n",
      "84/84 - 4s - loss: 3.0712 - accuracy: 0.1823\n",
      "Epoch 2/80\n",
      "84/84 - 1s - loss: 2.7335 - accuracy: 0.2504\n",
      "Epoch 3/80\n",
      "84/84 - 1s - loss: 2.4062 - accuracy: 0.3256\n",
      "Epoch 4/80\n",
      "84/84 - 1s - loss: 2.2698 - accuracy: 0.3562\n",
      "Epoch 5/80\n",
      "84/84 - 1s - loss: 2.1692 - accuracy: 0.3825\n",
      "Epoch 6/80\n",
      "84/84 - 1s - loss: 2.0875 - accuracy: 0.4030\n",
      "Epoch 7/80\n",
      "84/84 - 1s - loss: 2.0194 - accuracy: 0.4204\n",
      "Epoch 8/80\n",
      "84/84 - 1s - loss: 1.9666 - accuracy: 0.4331\n",
      "Epoch 9/80\n",
      "84/84 - 1s - loss: 1.9171 - accuracy: 0.4463\n",
      "Epoch 10/80\n",
      "84/84 - 1s - loss: 1.8718 - accuracy: 0.4579\n",
      "Epoch 11/80\n",
      "84/84 - 1s - loss: 1.8295 - accuracy: 0.4702\n",
      "Epoch 12/80\n",
      "84/84 - 1s - loss: 1.7912 - accuracy: 0.4807\n",
      "Epoch 13/80\n",
      "84/84 - 1s - loss: 1.7564 - accuracy: 0.4892\n",
      "Epoch 14/80\n",
      "84/84 - 1s - loss: 1.7240 - accuracy: 0.4976\n",
      "Epoch 15/80\n",
      "84/84 - 1s - loss: 1.6865 - accuracy: 0.5078\n",
      "Epoch 16/80\n",
      "84/84 - 1s - loss: 1.6527 - accuracy: 0.5156\n",
      "Epoch 17/80\n",
      "84/84 - 1s - loss: 1.6221 - accuracy: 0.5247\n",
      "Epoch 18/80\n",
      "84/84 - 1s - loss: 1.5883 - accuracy: 0.5324\n",
      "Epoch 19/80\n",
      "84/84 - 1s - loss: 1.5614 - accuracy: 0.5400\n",
      "Epoch 20/80\n",
      "84/84 - 1s - loss: 1.5314 - accuracy: 0.5480\n",
      "Epoch 21/80\n",
      "84/84 - 1s - loss: 1.5017 - accuracy: 0.5559\n",
      "Epoch 22/80\n",
      "84/84 - 1s - loss: 1.4741 - accuracy: 0.5637\n",
      "Epoch 23/80\n",
      "84/84 - 1s - loss: 1.4468 - accuracy: 0.5706\n",
      "Epoch 24/80\n",
      "84/84 - 1s - loss: 1.4193 - accuracy: 0.5794\n",
      "Epoch 25/80\n",
      "84/84 - 1s - loss: 1.3913 - accuracy: 0.5868\n",
      "Epoch 26/80\n",
      "84/84 - 1s - loss: 1.3664 - accuracy: 0.5934\n",
      "Epoch 27/80\n",
      "84/84 - 1s - loss: 1.3405 - accuracy: 0.6007\n",
      "Epoch 28/80\n",
      "84/84 - 1s - loss: 1.3113 - accuracy: 0.6086\n",
      "Epoch 29/80\n",
      "84/84 - 1s - loss: 1.2846 - accuracy: 0.6160\n",
      "Epoch 30/80\n",
      "84/84 - 1s - loss: 1.2589 - accuracy: 0.6237\n",
      "Epoch 31/80\n",
      "84/84 - 1s - loss: 1.2322 - accuracy: 0.6318\n",
      "Epoch 32/80\n",
      "84/84 - 1s - loss: 1.2050 - accuracy: 0.6387\n",
      "Epoch 33/80\n",
      "84/84 - 1s - loss: 1.1792 - accuracy: 0.6468\n",
      "Epoch 34/80\n",
      "84/84 - 1s - loss: 1.1507 - accuracy: 0.6556\n",
      "Epoch 35/80\n",
      "84/84 - 1s - loss: 1.1227 - accuracy: 0.6641\n",
      "Epoch 36/80\n",
      "84/84 - 1s - loss: 1.0944 - accuracy: 0.6725\n",
      "Epoch 37/80\n",
      "84/84 - 1s - loss: 1.0690 - accuracy: 0.6806\n",
      "Epoch 38/80\n",
      "84/84 - 1s - loss: 1.0412 - accuracy: 0.6887\n",
      "Epoch 39/80\n",
      "84/84 - 1s - loss: 1.0131 - accuracy: 0.6974\n",
      "Epoch 40/80\n",
      "84/84 - 1s - loss: 0.9843 - accuracy: 0.7068\n",
      "Epoch 41/80\n",
      "84/84 - 1s - loss: 0.9580 - accuracy: 0.7134\n",
      "Epoch 42/80\n",
      "84/84 - 1s - loss: 0.9316 - accuracy: 0.7226\n",
      "Epoch 43/80\n",
      "84/84 - 1s - loss: 0.9026 - accuracy: 0.7307\n",
      "Epoch 44/80\n",
      "84/84 - 1s - loss: 0.8764 - accuracy: 0.7396\n",
      "Epoch 45/80\n",
      "84/84 - 1s - loss: 0.8484 - accuracy: 0.7490\n",
      "Epoch 46/80\n",
      "84/84 - 1s - loss: 0.8226 - accuracy: 0.7569\n",
      "Epoch 47/80\n",
      "84/84 - 1s - loss: 0.7957 - accuracy: 0.7652\n",
      "Epoch 48/80\n",
      "84/84 - 1s - loss: 0.7700 - accuracy: 0.7734\n",
      "Epoch 49/80\n",
      "84/84 - 1s - loss: 0.7441 - accuracy: 0.7815\n",
      "Epoch 50/80\n",
      "84/84 - 1s - loss: 0.7218 - accuracy: 0.7884\n",
      "Epoch 51/80\n",
      "84/84 - 1s - loss: 0.6967 - accuracy: 0.7960\n",
      "Epoch 52/80\n",
      "84/84 - 1s - loss: 0.6723 - accuracy: 0.8048\n",
      "Epoch 53/80\n",
      "84/84 - 1s - loss: 0.6507 - accuracy: 0.8112\n",
      "Epoch 54/80\n",
      "84/84 - 1s - loss: 0.6243 - accuracy: 0.8205\n",
      "Epoch 55/80\n",
      "84/84 - 1s - loss: 0.6030 - accuracy: 0.8264\n",
      "Epoch 56/80\n",
      "84/84 - 1s - loss: 0.5789 - accuracy: 0.8344\n",
      "Epoch 57/80\n",
      "84/84 - 1s - loss: 0.5569 - accuracy: 0.8421\n",
      "Epoch 58/80\n",
      "84/84 - 1s - loss: 0.5322 - accuracy: 0.8501\n",
      "Epoch 59/80\n",
      "84/84 - 1s - loss: 0.5162 - accuracy: 0.8550\n",
      "Epoch 60/80\n",
      "84/84 - 1s - loss: 0.4965 - accuracy: 0.8610\n",
      "Epoch 61/80\n",
      "84/84 - 1s - loss: 0.4773 - accuracy: 0.8678\n",
      "Epoch 62/80\n",
      "84/84 - 1s - loss: 0.4615 - accuracy: 0.8733\n",
      "Epoch 63/80\n",
      "84/84 - 1s - loss: 0.4408 - accuracy: 0.8805\n",
      "Epoch 64/80\n",
      "84/84 - 1s - loss: 0.4228 - accuracy: 0.8856\n",
      "Epoch 65/80\n",
      "84/84 - 1s - loss: 0.4078 - accuracy: 0.8901\n",
      "Epoch 66/80\n",
      "84/84 - 1s - loss: 0.3921 - accuracy: 0.8954\n",
      "Epoch 67/80\n",
      "84/84 - 1s - loss: 0.3803 - accuracy: 0.8987\n",
      "Epoch 68/80\n",
      "84/84 - 1s - loss: 0.3637 - accuracy: 0.9039\n",
      "Epoch 69/80\n",
      "84/84 - 1s - loss: 0.3514 - accuracy: 0.9082\n",
      "Epoch 70/80\n",
      "84/84 - 1s - loss: 0.3318 - accuracy: 0.9147\n",
      "Epoch 71/80\n",
      "84/84 - 1s - loss: 0.3275 - accuracy: 0.9150\n",
      "Epoch 72/80\n",
      "84/84 - 1s - loss: 0.3133 - accuracy: 0.9194\n",
      "Epoch 73/80\n",
      "84/84 - 1s - loss: 0.2988 - accuracy: 0.9243\n",
      "Epoch 74/80\n",
      "84/84 - 1s - loss: 0.2861 - accuracy: 0.9281\n",
      "Epoch 75/80\n",
      "84/84 - 1s - loss: 0.2755 - accuracy: 0.9313\n",
      "Epoch 76/80\n",
      "84/84 - 1s - loss: 0.2643 - accuracy: 0.9347\n",
      "Epoch 77/80\n",
      "84/84 - 1s - loss: 0.2483 - accuracy: 0.9399\n",
      "Epoch 78/80\n",
      "84/84 - 1s - loss: 0.2389 - accuracy: 0.9434\n",
      "Epoch 79/80\n",
      "84/84 - 1s - loss: 0.2351 - accuracy: 0.9429\n",
      "Epoch 80/80\n",
      "84/84 - 1s - loss: 0.2243 - accuracy: 0.9465\n"
     ]
    },
    {
     "data": {
      "text/plain": [
       "<tensorflow.python.keras.callbacks.History at 0x15885a79b20>"
      ]
     },
     "execution_count": 16,
     "metadata": {},
     "output_type": "execute_result"
    }
   ],
   "source": [
    "model.compile(loss='categorical_crossentropy', optimizer='adam', metrics=['accuracy'])\n",
    "model.fit(train_X, train_y, epochs=80, verbose=2)"
   ]
  },
  {
   "cell_type": "code",
   "execution_count": 17,
   "id": "overall-kitty",
   "metadata": {},
   "outputs": [],
   "source": [
    "def sentence_generation(model, length):\n",
    "    ix = [np.random.randint(vocab_size)] # 글자에 대한 랜덤 인덱스 생성\n",
    "    y_char = [index_to_char[ix[-1]]] # 랜덤 익덱스로부터 글자 생성\n",
    "    print(ix[-1],'번 글자',y_char[-1],'로 예측을 시작!')\n",
    "    X = np.zeros((1, length, vocab_size)) # (1, length, 55) 크기의 X 생성. 즉, LSTM의 입력 시퀀스 생성\n",
    "\n",
    "    for i in range(length):\n",
    "        X[0][i][ix[-1]] = 1 # X[0][i][예측한 글자의 인덱스] = 1, 즉, 예측 글자를 다음 입력 시퀀스에 추가\n",
    "        print(index_to_char[ix[-1]], end=\"\")\n",
    "        ix = np.argmax(model.predict(X[:, :i+1, :])[0], 1)\n",
    "        y_char.append(index_to_char[ix[-1]])\n",
    "    return ('').join(y_char)"
   ]
  },
  {
   "cell_type": "code",
   "execution_count": 18,
   "id": "raising-louis",
   "metadata": {},
   "outputs": [
    {
     "name": "stdout",
     "output_type": "stream",
     "text": [
      "10 번 글자 , 로 예측을 시작!\n",
      ", and the lobsters all the first tring sometimes wish it offer than must, do coming in my yout, and "
     ]
    },
    {
     "data": {
      "text/plain": [
       "', and the lobsters all the first tring sometimes wish it offer than must, do coming in my yout, and w'"
      ]
     },
     "execution_count": 18,
     "metadata": {},
     "output_type": "execute_result"
    }
   ],
   "source": [
    "sentence_generation(model, 100)"
   ]
  },
  {
   "cell_type": "code",
   "execution_count": null,
   "id": "happy-chuck",
   "metadata": {},
   "outputs": [],
   "source": []
  },
  {
   "cell_type": "code",
   "execution_count": 19,
   "id": "unlikely-teaching",
   "metadata": {},
   "outputs": [
    {
     "ename": "ModuleNotFoundError",
     "evalue": "No module named 'tensorflow.utils'",
     "output_type": "error",
     "traceback": [
      "\u001b[1;31m---------------------------------------------------------------------------\u001b[0m",
      "\u001b[1;31mModuleNotFoundError\u001b[0m                       Traceback (most recent call last)",
      "\u001b[1;32m<ipython-input-19-3f06530bb0dc>\u001b[0m in \u001b[0;36m<module>\u001b[1;34m\u001b[0m\n\u001b[0;32m      1\u001b[0m \u001b[1;32mimport\u001b[0m \u001b[0mnumpy\u001b[0m \u001b[1;32mas\u001b[0m \u001b[0mnp\u001b[0m\u001b[1;33m\u001b[0m\u001b[1;33m\u001b[0m\u001b[0m\n\u001b[1;32m----> 2\u001b[1;33m \u001b[1;32mfrom\u001b[0m \u001b[0mtensorflow\u001b[0m\u001b[1;33m.\u001b[0m\u001b[0mutils\u001b[0m \u001b[1;32mimport\u001b[0m \u001b[0mto_categorical\u001b[0m\u001b[1;33m\u001b[0m\u001b[1;33m\u001b[0m\u001b[0m\n\u001b[0m",
      "\u001b[1;31mModuleNotFoundError\u001b[0m: No module named 'tensorflow.utils'"
     ]
    }
   ],
   "source": [
    "import numpy as np\n",
    "from tensorflow.utils import to_categorical"
   ]
  },
  {
   "cell_type": "code",
   "execution_count": 20,
   "id": "ordered-challenge",
   "metadata": {},
   "outputs": [],
   "source": [
    "text='''\n",
    "I get on with life as a programmer,\n",
    "I like to contemplate beer.\n",
    "But when I start to daydream,\n",
    "My mind turns straight to wine.\n",
    "\n",
    "Do I love wine more than beer?\n",
    "\n",
    "I like to use words about beer.\n",
    "But when I stop my talking,\n",
    "My mind turns straight to wine.\n",
    "\n",
    "I hate bugs and errors.\n",
    "But I just think back to wine,\n",
    "And I'm happy once again.\n",
    "\n",
    "I like to hang out with programming and deep learning.\n",
    "But when left alone,\n",
    "My mind turns straight to wine.\n",
    "'''"
   ]
  },
  {
   "cell_type": "code",
   "execution_count": 21,
   "id": "serious-excitement",
   "metadata": {},
   "outputs": [
    {
     "name": "stdout",
     "output_type": "stream",
     "text": [
      "I get on with life as a programmer, I like to contemplate beer. But when I start to daydream, My mind turns straight to wine. Do I love wine more than beer? I like to use words about beer. But when I stop my talking, My mind turns straight to wine. I hate bugs and errors. But I just think back to wine, And I'm happy once again. I like to hang out with programming and deep learning. But when left alone, My mind turns straight to wine.\n"
     ]
    }
   ],
   "source": [
    "tokens = text.split() # '\\n 제거'\n",
    "text = ' '.join(tokens)\n",
    "print(text)"
   ]
  },
  {
   "cell_type": "code",
   "execution_count": 22,
   "id": "arctic-dylan",
   "metadata": {},
   "outputs": [
    {
     "name": "stdout",
     "output_type": "stream",
     "text": [
      "[' ', \"'\", ',', '.', '?', 'A', 'B', 'D', 'I', 'M', 'a', 'b', 'c', 'd', 'e', 'f', 'g', 'h', 'i', 'j', 'k', 'l', 'm', 'n', 'o', 'p', 'r', 's', 't', 'u', 'v', 'w', 'y']\n"
     ]
    }
   ],
   "source": [
    "char_vocab = sorted(list(set(text))) # 중복을 제거한 글자 집합 생성\n",
    "print(char_vocab)"
   ]
  },
  {
   "cell_type": "code",
   "execution_count": 23,
   "id": "pregnant-dealing",
   "metadata": {},
   "outputs": [
    {
     "name": "stdout",
     "output_type": "stream",
     "text": [
      "글자 집합의 크기 : 33\n"
     ]
    }
   ],
   "source": [
    "vocab_size=len(char_vocab)\n",
    "print ('글자 집합의 크기 : {}'.format(vocab_size))"
   ]
  },
  {
   "cell_type": "code",
   "execution_count": 24,
   "id": "superior-assurance",
   "metadata": {},
   "outputs": [
    {
     "name": "stdout",
     "output_type": "stream",
     "text": [
      "{' ': 0, \"'\": 1, ',': 2, '.': 3, '?': 4, 'A': 5, 'B': 6, 'D': 7, 'I': 8, 'M': 9, 'a': 10, 'b': 11, 'c': 12, 'd': 13, 'e': 14, 'f': 15, 'g': 16, 'h': 17, 'i': 18, 'j': 19, 'k': 20, 'l': 21, 'm': 22, 'n': 23, 'o': 24, 'p': 25, 'r': 26, 's': 27, 't': 28, 'u': 29, 'v': 30, 'w': 31, 'y': 32}\n"
     ]
    }
   ],
   "source": [
    "char_to_index = dict((c, i) for i, c in enumerate(char_vocab)) # 글자에 고유한 정수 인덱스 부여\n",
    "print(char_to_index)"
   ]
  },
  {
   "cell_type": "code",
   "execution_count": 25,
   "id": "threaded-energy",
   "metadata": {},
   "outputs": [
    {
     "name": "stdout",
     "output_type": "stream",
     "text": [
      "총 훈련 샘플의 수: 426\n"
     ]
    }
   ],
   "source": [
    "length = 11\n",
    "sequences = []\n",
    "for i in range(length, len(text)):\n",
    "    seq = text[i-length:i] # 길이 11의 문자열을 지속적으로 만든다.\n",
    "    sequences.append(seq)\n",
    "print('총 훈련 샘플의 수: %d' % len(sequences))"
   ]
  },
  {
   "cell_type": "code",
   "execution_count": 26,
   "id": "communist-dallas",
   "metadata": {},
   "outputs": [
    {
     "data": {
      "text/plain": [
       "['I get on wi',\n",
       " ' get on wit',\n",
       " 'get on with',\n",
       " 'et on with ',\n",
       " 't on with l',\n",
       " ' on with li',\n",
       " 'on with lif',\n",
       " 'n with life',\n",
       " ' with life ',\n",
       " 'with life a']"
      ]
     },
     "execution_count": 26,
     "metadata": {},
     "output_type": "execute_result"
    }
   ],
   "source": [
    "sequences[:10]"
   ]
  },
  {
   "cell_type": "code",
   "execution_count": 27,
   "id": "cheap-crowd",
   "metadata": {},
   "outputs": [],
   "source": [
    "X = []\n",
    "for line in sequences: # 전체 데이터에서 문장 샘플을 1개씩 꺼낸다.\n",
    "    temp_X = [char_to_index[char] for char in line] # 문장 샘플에서 각 글자에 대해서 정수 인코딩을 수행.\n",
    "    X.append(temp_X)"
   ]
  },
  {
   "cell_type": "code",
   "execution_count": 28,
   "id": "colonial-opera",
   "metadata": {},
   "outputs": [
    {
     "name": "stdout",
     "output_type": "stream",
     "text": [
      "[8, 0, 16, 14, 28, 0, 24, 23, 0, 31, 18]\n",
      "[0, 16, 14, 28, 0, 24, 23, 0, 31, 18, 28]\n",
      "[16, 14, 28, 0, 24, 23, 0, 31, 18, 28, 17]\n",
      "[14, 28, 0, 24, 23, 0, 31, 18, 28, 17, 0]\n",
      "[28, 0, 24, 23, 0, 31, 18, 28, 17, 0, 21]\n"
     ]
    }
   ],
   "source": [
    "for line in X[:5]:\n",
    "    print(line)"
   ]
  },
  {
   "cell_type": "code",
   "execution_count": 29,
   "id": "forward-declaration",
   "metadata": {},
   "outputs": [],
   "source": [
    "sequences = np.array(X)\n",
    "X = sequences[:,:-1]\n",
    "y = sequences[:,-1] # 맨 마지막 위치의 글자를 분리"
   ]
  },
  {
   "cell_type": "code",
   "execution_count": 30,
   "id": "discrete-discipline",
   "metadata": {},
   "outputs": [
    {
     "name": "stdout",
     "output_type": "stream",
     "text": [
      "[ 8  0 16 14 28  0 24 23  0 31]\n",
      "[ 0 16 14 28  0 24 23  0 31 18]\n",
      "[16 14 28  0 24 23  0 31 18 28]\n",
      "[14 28  0 24 23  0 31 18 28 17]\n",
      "[28  0 24 23  0 31 18 28 17  0]\n"
     ]
    }
   ],
   "source": [
    "for line in X[:5]:\n",
    "    print(line)"
   ]
  },
  {
   "cell_type": "code",
   "execution_count": 31,
   "id": "spoken-enforcement",
   "metadata": {},
   "outputs": [
    {
     "name": "stdout",
     "output_type": "stream",
     "text": [
      "[18 28 17  0 21]\n"
     ]
    }
   ],
   "source": [
    "print(y[:5])"
   ]
  },
  {
   "cell_type": "code",
   "execution_count": 32,
   "id": "falling-quebec",
   "metadata": {},
   "outputs": [],
   "source": [
    "sequences = [to_categorical(x, num_classes=vocab_size) for x in X] # X에 대한 원-핫 인코딩\n",
    "X = np.array(sequences)\n",
    "y = to_categorical(y, num_classes=vocab_size) # y에 대한 원-핫 인코딩"
   ]
  },
  {
   "cell_type": "code",
   "execution_count": 33,
   "id": "subtle-coordinator",
   "metadata": {},
   "outputs": [
    {
     "name": "stdout",
     "output_type": "stream",
     "text": [
      "(426, 10, 33)\n"
     ]
    }
   ],
   "source": [
    "print(X.shape)"
   ]
  },
  {
   "cell_type": "code",
   "execution_count": 34,
   "id": "sacred-observation",
   "metadata": {},
   "outputs": [],
   "source": [
    "from tensorflow.keras.models import Sequential\n",
    "from tensorflow.keras.layers import Dense, LSTM\n",
    "from tensorflow.keras.preprocessing.sequence import pad_sequences"
   ]
  },
  {
   "cell_type": "code",
   "execution_count": 35,
   "id": "accurate-disability",
   "metadata": {},
   "outputs": [],
   "source": [
    "model = Sequential()\n",
    "model.add(LSTM(80, input_shape=(X.shape[1], X.shape[2]))) # X.shape[1]은 25, X.shape[2]는 33\n",
    "model.add(Dense(vocab_size, activation='softmax'))"
   ]
  },
  {
   "cell_type": "code",
   "execution_count": 36,
   "id": "revised-language",
   "metadata": {},
   "outputs": [
    {
     "name": "stdout",
     "output_type": "stream",
     "text": [
      "Epoch 1/100\n",
      "14/14 - 2s - loss: 3.4722 - accuracy: 0.0869\n",
      "Epoch 2/100\n",
      "14/14 - 0s - loss: 3.3504 - accuracy: 0.1972\n",
      "Epoch 3/100\n",
      "14/14 - 0s - loss: 3.0697 - accuracy: 0.1972\n",
      "Epoch 4/100\n",
      "14/14 - 0s - loss: 2.9808 - accuracy: 0.1972\n",
      "Epoch 5/100\n",
      "14/14 - 0s - loss: 2.9492 - accuracy: 0.1972\n",
      "Epoch 6/100\n",
      "14/14 - 0s - loss: 2.9226 - accuracy: 0.1972\n",
      "Epoch 7/100\n",
      "14/14 - 0s - loss: 2.8987 - accuracy: 0.1972\n",
      "Epoch 8/100\n",
      "14/14 - 0s - loss: 2.8830 - accuracy: 0.1972\n",
      "Epoch 9/100\n",
      "14/14 - 0s - loss: 2.8525 - accuracy: 0.1972\n",
      "Epoch 10/100\n",
      "14/14 - 0s - loss: 2.8170 - accuracy: 0.1972\n",
      "Epoch 11/100\n",
      "14/14 - 0s - loss: 2.7779 - accuracy: 0.1972\n",
      "Epoch 12/100\n",
      "14/14 - 0s - loss: 2.7324 - accuracy: 0.1972\n",
      "Epoch 13/100\n",
      "14/14 - 0s - loss: 2.6813 - accuracy: 0.2136\n",
      "Epoch 14/100\n",
      "14/14 - 0s - loss: 2.6261 - accuracy: 0.2418\n",
      "Epoch 15/100\n",
      "14/14 - 0s - loss: 2.5719 - accuracy: 0.2629\n",
      "Epoch 16/100\n",
      "14/14 - 0s - loss: 2.5179 - accuracy: 0.2535\n",
      "Epoch 17/100\n",
      "14/14 - 0s - loss: 2.4714 - accuracy: 0.2840\n",
      "Epoch 18/100\n",
      "14/14 - 0s - loss: 2.4165 - accuracy: 0.3052\n",
      "Epoch 19/100\n",
      "14/14 - 0s - loss: 2.3543 - accuracy: 0.3052\n",
      "Epoch 20/100\n",
      "14/14 - 0s - loss: 2.2977 - accuracy: 0.3099\n",
      "Epoch 21/100\n",
      "14/14 - 0s - loss: 2.2399 - accuracy: 0.3498\n",
      "Epoch 22/100\n",
      "14/14 - 0s - loss: 2.1820 - accuracy: 0.3568\n",
      "Epoch 23/100\n",
      "14/14 - 0s - loss: 2.1302 - accuracy: 0.3732\n",
      "Epoch 24/100\n",
      "14/14 - 0s - loss: 2.0884 - accuracy: 0.4014\n",
      "Epoch 25/100\n",
      "14/14 - 0s - loss: 2.0115 - accuracy: 0.4178\n",
      "Epoch 26/100\n",
      "14/14 - 0s - loss: 1.9997 - accuracy: 0.4460\n",
      "Epoch 27/100\n",
      "14/14 - 0s - loss: 1.9107 - accuracy: 0.4554\n",
      "Epoch 28/100\n",
      "14/14 - 0s - loss: 1.8636 - accuracy: 0.4671\n",
      "Epoch 29/100\n",
      "14/14 - 0s - loss: 1.8233 - accuracy: 0.5117\n",
      "Epoch 30/100\n",
      "14/14 - 0s - loss: 1.7778 - accuracy: 0.4883\n",
      "Epoch 31/100\n",
      "14/14 - 0s - loss: 1.7197 - accuracy: 0.5258\n",
      "Epoch 32/100\n",
      "14/14 - 0s - loss: 1.6725 - accuracy: 0.5563\n",
      "Epoch 33/100\n",
      "14/14 - 0s - loss: 1.6505 - accuracy: 0.5493\n",
      "Epoch 34/100\n",
      "14/14 - 0s - loss: 1.5976 - accuracy: 0.5493\n",
      "Epoch 35/100\n",
      "14/14 - 0s - loss: 1.5390 - accuracy: 0.5775\n",
      "Epoch 36/100\n",
      "14/14 - 0s - loss: 1.5114 - accuracy: 0.5845\n",
      "Epoch 37/100\n",
      "14/14 - 0s - loss: 1.4691 - accuracy: 0.5962\n",
      "Epoch 38/100\n",
      "14/14 - 0s - loss: 1.4259 - accuracy: 0.6009\n",
      "Epoch 39/100\n",
      "14/14 - 0s - loss: 1.3653 - accuracy: 0.6573\n",
      "Epoch 40/100\n",
      "14/14 - 0s - loss: 1.3312 - accuracy: 0.6362\n",
      "Epoch 41/100\n",
      "14/14 - 0s - loss: 1.2977 - accuracy: 0.6761\n",
      "Epoch 42/100\n",
      "14/14 - 0s - loss: 1.2260 - accuracy: 0.6690\n",
      "Epoch 43/100\n",
      "14/14 - 0s - loss: 1.2005 - accuracy: 0.6808\n",
      "Epoch 44/100\n",
      "14/14 - 0s - loss: 1.1515 - accuracy: 0.7066\n",
      "Epoch 45/100\n",
      "14/14 - 0s - loss: 1.1268 - accuracy: 0.7160\n",
      "Epoch 46/100\n",
      "14/14 - 0s - loss: 1.1217 - accuracy: 0.7089\n",
      "Epoch 47/100\n",
      "14/14 - 0s - loss: 1.0687 - accuracy: 0.7371\n",
      "Epoch 48/100\n",
      "14/14 - 0s - loss: 1.0316 - accuracy: 0.7512\n",
      "Epoch 49/100\n",
      "14/14 - 0s - loss: 0.9748 - accuracy: 0.7793\n",
      "Epoch 50/100\n",
      "14/14 - 0s - loss: 0.9398 - accuracy: 0.7700\n",
      "Epoch 51/100\n",
      "14/14 - 0s - loss: 0.9420 - accuracy: 0.7606\n",
      "Epoch 52/100\n",
      "14/14 - 0s - loss: 0.8894 - accuracy: 0.7887\n",
      "Epoch 53/100\n",
      "14/14 - 0s - loss: 0.8530 - accuracy: 0.7958\n",
      "Epoch 54/100\n",
      "14/14 - 0s - loss: 0.8148 - accuracy: 0.8404\n",
      "Epoch 55/100\n",
      "14/14 - 0s - loss: 0.8016 - accuracy: 0.8286\n",
      "Epoch 56/100\n",
      "14/14 - 0s - loss: 0.7694 - accuracy: 0.8357\n",
      "Epoch 57/100\n",
      "14/14 - 0s - loss: 0.7248 - accuracy: 0.8685\n",
      "Epoch 58/100\n",
      "14/14 - 0s - loss: 0.7147 - accuracy: 0.8498\n",
      "Epoch 59/100\n",
      "14/14 - 0s - loss: 0.6850 - accuracy: 0.8732\n",
      "Epoch 60/100\n",
      "14/14 - 0s - loss: 0.6643 - accuracy: 0.8826\n",
      "Epoch 61/100\n",
      "14/14 - 0s - loss: 0.6292 - accuracy: 0.9014\n",
      "Epoch 62/100\n",
      "14/14 - 0s - loss: 0.6211 - accuracy: 0.8967\n",
      "Epoch 63/100\n",
      "14/14 - 0s - loss: 0.5816 - accuracy: 0.8991\n",
      "Epoch 64/100\n",
      "14/14 - 0s - loss: 0.5681 - accuracy: 0.9014\n",
      "Epoch 65/100\n",
      "14/14 - 0s - loss: 0.5476 - accuracy: 0.9155\n",
      "Epoch 66/100\n",
      "14/14 - 0s - loss: 0.5319 - accuracy: 0.9131\n",
      "Epoch 67/100\n",
      "14/14 - 0s - loss: 0.5022 - accuracy: 0.9272\n",
      "Epoch 68/100\n",
      "14/14 - 0s - loss: 0.4855 - accuracy: 0.9296\n",
      "Epoch 69/100\n",
      "14/14 - 0s - loss: 0.4614 - accuracy: 0.9437\n",
      "Epoch 70/100\n",
      "14/14 - 0s - loss: 0.4784 - accuracy: 0.9202\n",
      "Epoch 71/100\n",
      "14/14 - 0s - loss: 0.4493 - accuracy: 0.9343\n",
      "Epoch 72/100\n",
      "14/14 - 0s - loss: 0.4376 - accuracy: 0.9366\n",
      "Epoch 73/100\n",
      "14/14 - 0s - loss: 0.4033 - accuracy: 0.9484\n",
      "Epoch 74/100\n",
      "14/14 - 0s - loss: 0.3914 - accuracy: 0.9437\n",
      "Epoch 75/100\n",
      "14/14 - 0s - loss: 0.3705 - accuracy: 0.9507\n",
      "Epoch 76/100\n",
      "14/14 - 0s - loss: 0.3495 - accuracy: 0.9484\n",
      "Epoch 77/100\n",
      "14/14 - 0s - loss: 0.3393 - accuracy: 0.9577\n",
      "Epoch 78/100\n",
      "14/14 - 0s - loss: 0.3308 - accuracy: 0.9648\n",
      "Epoch 79/100\n",
      "14/14 - 0s - loss: 0.3225 - accuracy: 0.9624\n",
      "Epoch 80/100\n",
      "14/14 - 0s - loss: 0.3082 - accuracy: 0.9695\n",
      "Epoch 81/100\n",
      "14/14 - 0s - loss: 0.2976 - accuracy: 0.9695\n",
      "Epoch 82/100\n",
      "14/14 - 0s - loss: 0.2937 - accuracy: 0.9624\n",
      "Epoch 83/100\n",
      "14/14 - 0s - loss: 0.2792 - accuracy: 0.9695\n",
      "Epoch 84/100\n",
      "14/14 - 0s - loss: 0.2672 - accuracy: 0.9648\n",
      "Epoch 85/100\n",
      "14/14 - 0s - loss: 0.2614 - accuracy: 0.9718\n",
      "Epoch 86/100\n",
      "14/14 - 0s - loss: 0.2541 - accuracy: 0.9789\n",
      "Epoch 87/100\n",
      "14/14 - 0s - loss: 0.2423 - accuracy: 0.9695\n",
      "Epoch 88/100\n",
      "14/14 - 0s - loss: 0.2421 - accuracy: 0.9695\n",
      "Epoch 89/100\n",
      "14/14 - 0s - loss: 0.2332 - accuracy: 0.9718\n",
      "Epoch 90/100\n",
      "14/14 - 0s - loss: 0.2244 - accuracy: 0.9742\n",
      "Epoch 91/100\n",
      "14/14 - 0s - loss: 0.2243 - accuracy: 0.9789\n",
      "Epoch 92/100\n",
      "14/14 - 0s - loss: 0.2114 - accuracy: 0.9812\n",
      "Epoch 93/100\n",
      "14/14 - 0s - loss: 0.2037 - accuracy: 0.9812\n",
      "Epoch 94/100\n",
      "14/14 - 0s - loss: 0.1930 - accuracy: 0.9742\n",
      "Epoch 95/100\n",
      "14/14 - 0s - loss: 0.1838 - accuracy: 0.9742\n",
      "Epoch 96/100\n",
      "14/14 - 0s - loss: 0.1788 - accuracy: 0.9765\n",
      "Epoch 97/100\n",
      "14/14 - 0s - loss: 0.1755 - accuracy: 0.9789\n",
      "Epoch 98/100\n",
      "14/14 - 0s - loss: 0.1718 - accuracy: 0.9765\n",
      "Epoch 99/100\n",
      "14/14 - 0s - loss: 0.1673 - accuracy: 0.9789\n",
      "Epoch 100/100\n",
      "14/14 - 0s - loss: 0.1603 - accuracy: 0.9765\n"
     ]
    },
    {
     "data": {
      "text/plain": [
       "<tensorflow.python.keras.callbacks.History at 0x158d5dd83d0>"
      ]
     },
     "execution_count": 36,
     "metadata": {},
     "output_type": "execute_result"
    }
   ],
   "source": [
    "model.compile(loss='categorical_crossentropy', optimizer='adam', metrics=['accuracy'])\n",
    "model.fit(X, y, epochs=100, verbose=2)"
   ]
  },
  {
   "cell_type": "code",
   "execution_count": 37,
   "id": "covered-quantity",
   "metadata": {},
   "outputs": [],
   "source": [
    "def sentence_generation(model, char_to_index, seq_length, seed_text, n):\n",
    "# 모델, 인덱스 정보, 문장 길이, 초기 시퀀스, 반복 횟수\n",
    "    init_text = seed_text # 문장 생성에 사용할 초기 시퀀스\n",
    "    sentence = ''\n",
    "\n",
    "    for _ in range(n): # n번 반복\n",
    "        encoded = [char_to_index[char] for char in seed_text] # 현재 시퀀스에 대한 정수 인코딩\n",
    "        encoded = pad_sequences([encoded], maxlen=seq_length, padding='pre') # 데이터에 대한 패딩\n",
    "        encoded = to_categorical(encoded, num_classes=len(char_to_index))\n",
    "        result = model.predict_classes(encoded, verbose=0)\n",
    "        # 입력한 X(현재 시퀀스)에 대해서 y를 예측하고 y(예측한 글자)를 result에 저장.\n",
    "        for char, index in char_to_index.items(): # 만약 예측한 글자와 인덱스와 동일한 글자가 있다면\n",
    "            if index == result: # 해당 글자가 예측 글자이므로 break\n",
    "                break\n",
    "        seed_text=seed_text + char # 현재 시퀀스 + 예측 글자를 현재 시퀀스로 변경\n",
    "        sentence=sentence + char # 예측 글자를 문장에 저장\n",
    "        # for문이므로 이 작업을 다시 반복\n",
    "\n",
    "    sentence = init_text + sentence\n",
    "    return sentence"
   ]
  },
  {
   "cell_type": "code",
   "execution_count": 38,
   "id": "medieval-updating",
   "metadata": {},
   "outputs": [
    {
     "name": "stderr",
     "output_type": "stream",
     "text": [
      "c:\\users\\윤보경\\appdata\\local\\programs\\python\\python38\\lib\\site-packages\\tensorflow\\python\\keras\\engine\\sequential.py:450: UserWarning: `model.predict_classes()` is deprecated and will be removed after 2021-01-01. Please use instead:* `np.argmax(model.predict(x), axis=-1)`,   if your model does multi-class classification   (e.g. if it uses a `softmax` last-layer activation).* `(model.predict(x) > 0.5).astype(\"int32\")`,   if your model does binary classification   (e.g. if it uses a `sigmoid` last-layer activation).\n",
      "  warnings.warn('`model.predict_classes()` is deprecated and '\n"
     ]
    },
    {
     "name": "stdout",
     "output_type": "stream",
     "text": [
      "I get on with life as a programmer, I like to contemplate beer. But when I stap tt oraeeg.\n"
     ]
    }
   ],
   "source": [
    "print(sentence_generation(model, char_to_index, 10, 'I get on w', 80))"
   ]
  },
  {
   "cell_type": "code",
   "execution_count": null,
   "id": "liquid-marker",
   "metadata": {},
   "outputs": [],
   "source": []
  }
 ],
 "metadata": {
  "kernelspec": {
   "display_name": "Python 3",
   "language": "python",
   "name": "python3"
  },
  "language_info": {
   "codemirror_mode": {
    "name": "ipython",
    "version": 3
   },
   "file_extension": ".py",
   "mimetype": "text/x-python",
   "name": "python",
   "nbconvert_exporter": "python",
   "pygments_lexer": "ipython3",
   "version": "3.8.6"
  }
 },
 "nbformat": 4,
 "nbformat_minor": 5
}
