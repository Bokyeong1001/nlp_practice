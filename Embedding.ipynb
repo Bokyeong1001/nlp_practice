{
 "cells": [
  {
   "cell_type": "code",
   "execution_count": 1,
   "id": "demonstrated-boxing",
   "metadata": {},
   "outputs": [],
   "source": [
    "from tensorflow.keras.preprocessing.text import Tokenizer\n",
    "from tensorflow.keras.preprocessing.sequence import pad_sequences\n",
    "import numpy as np"
   ]
  },
  {
   "cell_type": "code",
   "execution_count": 2,
   "id": "falling-bottom",
   "metadata": {},
   "outputs": [],
   "source": [
    "sentences = ['nice great best amazing', 'stop lies', 'pitiful nerd', 'excellent work', 'supreme quality', 'bad', 'highly respectable']\n",
    "y_train = [1, 0, 0, 1, 1, 0, 1]"
   ]
  },
  {
   "cell_type": "code",
   "execution_count": 3,
   "id": "about-figure",
   "metadata": {},
   "outputs": [
    {
     "name": "stdout",
     "output_type": "stream",
     "text": [
      "16\n"
     ]
    }
   ],
   "source": [
    "t=Tokenizer()\n",
    "t.fit_on_texts(sentences)\n",
    "vocab_size = len(t.word_index)+1\n",
    "print(vocab_size)"
   ]
  },
  {
   "cell_type": "code",
   "execution_count": 4,
   "id": "desirable-fifth",
   "metadata": {},
   "outputs": [
    {
     "name": "stdout",
     "output_type": "stream",
     "text": [
      "[[1, 2, 3, 4], [5, 6], [7, 8], [9, 10], [11, 12], [13], [14, 15]]\n"
     ]
    }
   ],
   "source": [
    "X_encoded=t.texts_to_sequences(sentences)\n",
    "print(X_encoded)"
   ]
  },
  {
   "cell_type": "code",
   "execution_count": 5,
   "id": "utility-study",
   "metadata": {},
   "outputs": [
    {
     "name": "stdout",
     "output_type": "stream",
     "text": [
      "4\n"
     ]
    }
   ],
   "source": [
    "max_len=max(len(l) for l in X_encoded)\n",
    "print(max_len)"
   ]
  },
  {
   "cell_type": "code",
   "execution_count": 6,
   "id": "scientific-terrace",
   "metadata": {},
   "outputs": [
    {
     "name": "stdout",
     "output_type": "stream",
     "text": [
      "[[ 1  2  3  4]\n",
      " [ 5  6  0  0]\n",
      " [ 7  8  0  0]\n",
      " [ 9 10  0  0]\n",
      " [11 12  0  0]\n",
      " [13  0  0  0]\n",
      " [14 15  0  0]]\n"
     ]
    }
   ],
   "source": [
    "x_train=pad_sequences(X_encoded,maxlen=max_len,padding='post')\n",
    "y_train=np.array(y_train)\n",
    "print(x_train)"
   ]
  },
  {
   "cell_type": "code",
   "execution_count": 8,
   "id": "fantastic-affiliation",
   "metadata": {},
   "outputs": [],
   "source": [
    "from tensorflow.keras.models import Sequential\n",
    "from tensorflow.keras.layers import Dense, Embedding, Flatten\n",
    "\n",
    "model=Sequential()\n",
    "model.add(Embedding(vocab_size,4,input_length=max_len))\n",
    "\n",
    "model.add(Flatten())\n",
    "model.add(Dense(1,activation='sigmoid'))"
   ]
  },
  {
   "cell_type": "code",
   "execution_count": 10,
   "id": "martial-residence",
   "metadata": {},
   "outputs": [
    {
     "name": "stdout",
     "output_type": "stream",
     "text": [
      "Epoch 1/100\n",
      "1/1 - 1s - loss: 0.6928 - acc: 0.4286\n",
      "Epoch 2/100\n",
      "1/1 - 0s - loss: 0.6918 - acc: 0.4286\n",
      "Epoch 3/100\n",
      "1/1 - 0s - loss: 0.6908 - acc: 0.4286\n",
      "Epoch 4/100\n",
      "1/1 - 0s - loss: 0.6898 - acc: 0.4286\n",
      "Epoch 5/100\n",
      "1/1 - 0s - loss: 0.6887 - acc: 0.5714\n",
      "Epoch 6/100\n",
      "1/1 - 0s - loss: 0.6877 - acc: 0.5714\n",
      "Epoch 7/100\n",
      "1/1 - 0s - loss: 0.6867 - acc: 0.5714\n",
      "Epoch 8/100\n",
      "1/1 - 0s - loss: 0.6857 - acc: 0.5714\n",
      "Epoch 9/100\n",
      "1/1 - 0s - loss: 0.6846 - acc: 0.5714\n",
      "Epoch 10/100\n",
      "1/1 - 0s - loss: 0.6836 - acc: 0.5714\n",
      "Epoch 11/100\n",
      "1/1 - 0s - loss: 0.6826 - acc: 0.5714\n",
      "Epoch 12/100\n",
      "1/1 - 0s - loss: 0.6815 - acc: 0.5714\n",
      "Epoch 13/100\n",
      "1/1 - 0s - loss: 0.6805 - acc: 0.5714\n",
      "Epoch 14/100\n",
      "1/1 - 0s - loss: 0.6794 - acc: 0.5714\n",
      "Epoch 15/100\n",
      "1/1 - 0s - loss: 0.6784 - acc: 0.5714\n",
      "Epoch 16/100\n",
      "1/1 - 0s - loss: 0.6773 - acc: 0.5714\n",
      "Epoch 17/100\n",
      "1/1 - 0s - loss: 0.6762 - acc: 0.5714\n",
      "Epoch 18/100\n",
      "1/1 - 0s - loss: 0.6752 - acc: 0.5714\n",
      "Epoch 19/100\n",
      "1/1 - 0s - loss: 0.6741 - acc: 0.5714\n",
      "Epoch 20/100\n",
      "1/1 - 0s - loss: 0.6730 - acc: 0.5714\n",
      "Epoch 21/100\n",
      "1/1 - 0s - loss: 0.6719 - acc: 0.5714\n",
      "Epoch 22/100\n",
      "1/1 - 0s - loss: 0.6708 - acc: 0.5714\n",
      "Epoch 23/100\n",
      "1/1 - 0s - loss: 0.6697 - acc: 0.5714\n",
      "Epoch 24/100\n",
      "1/1 - 0s - loss: 0.6686 - acc: 0.5714\n",
      "Epoch 25/100\n",
      "1/1 - 0s - loss: 0.6674 - acc: 0.5714\n",
      "Epoch 26/100\n",
      "1/1 - 0s - loss: 0.6663 - acc: 0.5714\n",
      "Epoch 27/100\n",
      "1/1 - 0s - loss: 0.6652 - acc: 0.5714\n",
      "Epoch 28/100\n",
      "1/1 - 0s - loss: 0.6640 - acc: 0.5714\n",
      "Epoch 29/100\n",
      "1/1 - 0s - loss: 0.6628 - acc: 0.5714\n",
      "Epoch 30/100\n",
      "1/1 - 0s - loss: 0.6617 - acc: 0.5714\n",
      "Epoch 31/100\n",
      "1/1 - 0s - loss: 0.6605 - acc: 0.5714\n",
      "Epoch 32/100\n",
      "1/1 - 0s - loss: 0.6593 - acc: 0.5714\n",
      "Epoch 33/100\n",
      "1/1 - 0s - loss: 0.6581 - acc: 0.5714\n",
      "Epoch 34/100\n",
      "1/1 - 0s - loss: 0.6569 - acc: 0.5714\n",
      "Epoch 35/100\n",
      "1/1 - 0s - loss: 0.6557 - acc: 0.5714\n",
      "Epoch 36/100\n",
      "1/1 - 0s - loss: 0.6544 - acc: 0.5714\n",
      "Epoch 37/100\n",
      "1/1 - 0s - loss: 0.6532 - acc: 0.5714\n",
      "Epoch 38/100\n",
      "1/1 - 0s - loss: 0.6519 - acc: 0.5714\n",
      "Epoch 39/100\n",
      "1/1 - 0s - loss: 0.6506 - acc: 0.5714\n",
      "Epoch 40/100\n",
      "1/1 - 0s - loss: 0.6494 - acc: 0.5714\n",
      "Epoch 41/100\n",
      "1/1 - 0s - loss: 0.6481 - acc: 0.7143\n",
      "Epoch 42/100\n",
      "1/1 - 0s - loss: 0.6468 - acc: 0.7143\n",
      "Epoch 43/100\n",
      "1/1 - 0s - loss: 0.6455 - acc: 0.7143\n",
      "Epoch 44/100\n",
      "1/1 - 0s - loss: 0.6441 - acc: 0.8571\n",
      "Epoch 45/100\n",
      "1/1 - 0s - loss: 0.6428 - acc: 0.8571\n",
      "Epoch 46/100\n",
      "1/1 - 0s - loss: 0.6414 - acc: 0.8571\n",
      "Epoch 47/100\n",
      "1/1 - 0s - loss: 0.6401 - acc: 0.8571\n",
      "Epoch 48/100\n",
      "1/1 - 0s - loss: 0.6387 - acc: 0.8571\n",
      "Epoch 49/100\n",
      "1/1 - 0s - loss: 0.6373 - acc: 0.8571\n",
      "Epoch 50/100\n",
      "1/1 - 0s - loss: 0.6359 - acc: 0.8571\n",
      "Epoch 51/100\n",
      "1/1 - 0s - loss: 0.6345 - acc: 0.8571\n",
      "Epoch 52/100\n",
      "1/1 - 0s - loss: 0.6331 - acc: 0.8571\n",
      "Epoch 53/100\n",
      "1/1 - 0s - loss: 0.6316 - acc: 0.8571\n",
      "Epoch 54/100\n",
      "1/1 - 0s - loss: 0.6302 - acc: 0.8571\n",
      "Epoch 55/100\n",
      "1/1 - 0s - loss: 0.6287 - acc: 0.8571\n",
      "Epoch 56/100\n",
      "1/1 - 0s - loss: 0.6272 - acc: 1.0000\n",
      "Epoch 57/100\n",
      "1/1 - 0s - loss: 0.6257 - acc: 1.0000\n",
      "Epoch 58/100\n",
      "1/1 - 0s - loss: 0.6242 - acc: 1.0000\n",
      "Epoch 59/100\n",
      "1/1 - 0s - loss: 0.6227 - acc: 1.0000\n",
      "Epoch 60/100\n",
      "1/1 - 0s - loss: 0.6212 - acc: 1.0000\n",
      "Epoch 61/100\n",
      "1/1 - 0s - loss: 0.6197 - acc: 1.0000\n",
      "Epoch 62/100\n",
      "1/1 - 0s - loss: 0.6181 - acc: 1.0000\n",
      "Epoch 63/100\n",
      "1/1 - 0s - loss: 0.6166 - acc: 1.0000\n",
      "Epoch 64/100\n",
      "1/1 - 0s - loss: 0.6150 - acc: 1.0000\n",
      "Epoch 65/100\n",
      "1/1 - 0s - loss: 0.6134 - acc: 1.0000\n",
      "Epoch 66/100\n",
      "1/1 - 0s - loss: 0.6118 - acc: 1.0000\n",
      "Epoch 67/100\n",
      "1/1 - 0s - loss: 0.6102 - acc: 1.0000\n",
      "Epoch 68/100\n",
      "1/1 - 0s - loss: 0.6086 - acc: 1.0000\n",
      "Epoch 69/100\n",
      "1/1 - 0s - loss: 0.6069 - acc: 1.0000\n",
      "Epoch 70/100\n",
      "1/1 - 0s - loss: 0.6053 - acc: 1.0000\n",
      "Epoch 71/100\n",
      "1/1 - 0s - loss: 0.6036 - acc: 1.0000\n",
      "Epoch 72/100\n",
      "1/1 - 0s - loss: 0.6020 - acc: 1.0000\n",
      "Epoch 73/100\n",
      "1/1 - 0s - loss: 0.6003 - acc: 1.0000\n",
      "Epoch 74/100\n",
      "1/1 - 0s - loss: 0.5986 - acc: 1.0000\n",
      "Epoch 75/100\n",
      "1/1 - 0s - loss: 0.5969 - acc: 1.0000\n",
      "Epoch 76/100\n",
      "1/1 - 0s - loss: 0.5952 - acc: 1.0000\n",
      "Epoch 77/100\n",
      "1/1 - 0s - loss: 0.5935 - acc: 1.0000\n",
      "Epoch 78/100\n",
      "1/1 - 0s - loss: 0.5917 - acc: 1.0000\n",
      "Epoch 79/100\n",
      "1/1 - 0s - loss: 0.5900 - acc: 1.0000\n",
      "Epoch 80/100\n",
      "1/1 - 0s - loss: 0.5882 - acc: 1.0000\n",
      "Epoch 81/100\n",
      "1/1 - 0s - loss: 0.5865 - acc: 1.0000\n",
      "Epoch 82/100\n",
      "1/1 - 0s - loss: 0.5847 - acc: 1.0000\n",
      "Epoch 83/100\n",
      "1/1 - 0s - loss: 0.5829 - acc: 1.0000\n",
      "Epoch 84/100\n",
      "1/1 - 0s - loss: 0.5811 - acc: 1.0000\n",
      "Epoch 85/100\n",
      "1/1 - 0s - loss: 0.5793 - acc: 1.0000\n",
      "Epoch 86/100\n",
      "1/1 - 0s - loss: 0.5775 - acc: 1.0000\n",
      "Epoch 87/100\n",
      "1/1 - 0s - loss: 0.5756 - acc: 1.0000\n",
      "Epoch 88/100\n",
      "1/1 - 0s - loss: 0.5738 - acc: 1.0000\n",
      "Epoch 89/100\n",
      "1/1 - 0s - loss: 0.5720 - acc: 1.0000\n",
      "Epoch 90/100\n",
      "1/1 - 0s - loss: 0.5701 - acc: 1.0000\n",
      "Epoch 91/100\n",
      "1/1 - 0s - loss: 0.5682 - acc: 1.0000\n",
      "Epoch 92/100\n",
      "1/1 - 0s - loss: 0.5664 - acc: 1.0000\n",
      "Epoch 93/100\n",
      "1/1 - 0s - loss: 0.5645 - acc: 1.0000\n",
      "Epoch 94/100\n",
      "1/1 - 0s - loss: 0.5626 - acc: 1.0000\n",
      "Epoch 95/100\n",
      "1/1 - 0s - loss: 0.5607 - acc: 1.0000\n",
      "Epoch 96/100\n",
      "1/1 - 0s - loss: 0.5588 - acc: 1.0000\n",
      "Epoch 97/100\n",
      "1/1 - 0s - loss: 0.5569 - acc: 1.0000\n",
      "Epoch 98/100\n",
      "1/1 - 0s - loss: 0.5549 - acc: 1.0000\n",
      "Epoch 99/100\n",
      "1/1 - 0s - loss: 0.5530 - acc: 1.0000\n",
      "Epoch 100/100\n",
      "1/1 - 0s - loss: 0.5510 - acc: 1.0000\n"
     ]
    },
    {
     "data": {
      "text/plain": [
       "<tensorflow.python.keras.callbacks.History at 0x2202ae51c70>"
      ]
     },
     "execution_count": 10,
     "metadata": {},
     "output_type": "execute_result"
    }
   ],
   "source": [
    "model.compile(optimizer='adam',loss='binary_crossentropy',metrics=['acc'])\n",
    "model.fit(x_train,y_train,epochs=100,verbose=2)\n"
   ]
  },
  {
   "cell_type": "code",
   "execution_count": 11,
   "id": "isolated-investment",
   "metadata": {},
   "outputs": [
    {
     "name": "stderr",
     "output_type": "stream",
     "text": [
      "'wget'은(는) 내부 또는 외부 명령, 실행할 수 있는 프로그램, 또는\n",
      "배치 파일이 아닙니다.\n",
      "'unzip'은(는) 내부 또는 외부 명령, 실행할 수 있는 프로그램, 또는\n",
      "배치 파일이 아닙니다.\n"
     ]
    }
   ],
   "source": [
    "!wget http://nlp.stanford.edu/data/glove.6B.zip\n",
    "!unzip glove*.zip"
   ]
  },
  {
   "cell_type": "code",
   "execution_count": null,
   "id": "rental-steam",
   "metadata": {},
   "outputs": [],
   "source": []
  }
 ],
 "metadata": {
  "kernelspec": {
   "display_name": "Python 3",
   "language": "python",
   "name": "python3"
  },
  "language_info": {
   "codemirror_mode": {
    "name": "ipython",
    "version": 3
   },
   "file_extension": ".py",
   "mimetype": "text/x-python",
   "name": "python",
   "nbconvert_exporter": "python",
   "pygments_lexer": "ipython3",
   "version": "3.8.6"
  }
 },
 "nbformat": 4,
 "nbformat_minor": 5
}
