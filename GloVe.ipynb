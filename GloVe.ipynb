{
 "cells": [
  {
   "cell_type": "code",
   "execution_count": 2,
   "id": "educated-empty",
   "metadata": {},
   "outputs": [
    {
     "name": "stdout",
     "output_type": "stream",
     "text": [
      "Collecting glove_python\n",
      "  Using cached glove_python-0.1.0.tar.gz (263 kB)\n",
      "Requirement already satisfied: numpy in c:\\users\\윤보경\\appdata\\local\\programs\\python\\python38\\lib\\site-packages (from glove_python) (1.19.3)\n",
      "Requirement already satisfied: scipy in c:\\users\\윤보경\\appdata\\local\\programs\\python\\python38\\lib\\site-packages (from glove_python) (1.5.4)\n",
      "Building wheels for collected packages: glove-python\n",
      "  Building wheel for glove-python (setup.py): started\n",
      "  Building wheel for glove-python (setup.py): finished with status 'error'\n",
      "  Running setup.py clean for glove-python\n",
      "Failed to build glove-python\n",
      "Installing collected packages: glove-python\n",
      "    Running setup.py install for glove-python: started\n",
      "    Running setup.py install for glove-python: finished with status 'error'\n"
     ]
    },
    {
     "name": "stderr",
     "output_type": "stream",
     "text": [
      "  ERROR: Command errored out with exit status 1:\n",
      "   command: 'c:\\users\\윤보경\\appdata\\local\\programs\\python\\python38\\python.exe' -u -c 'import sys, setuptools, tokenize; sys.argv[0] = '\"'\"'C:\\\\Users\\\\윤보경\\\\AppData\\\\Local\\\\Temp\\\\pip-install-8uswl14u\\\\glove-python_843056b735614b36ad1bd1740a23e4b0\\\\setup.py'\"'\"'; __file__='\"'\"'C:\\\\Users\\\\윤보경\\\\AppData\\\\Local\\\\Temp\\\\pip-install-8uswl14u\\\\glove-python_843056b735614b36ad1bd1740a23e4b0\\\\setup.py'\"'\"';f=getattr(tokenize, '\"'\"'open'\"'\"', open)(__file__);code=f.read().replace('\"'\"'\\r\\n'\"'\"', '\"'\"'\\n'\"'\"');f.close();exec(compile(code, __file__, '\"'\"'exec'\"'\"'))' bdist_wheel -d 'C:\\Users\\윤보경\\AppData\\Local\\Temp\\pip-wheel-g__j5489'\n",
      "       cwd: C:\\Users\\윤보경\\AppData\\Local\\Temp\\pip-install-8uswl14u\\glove-python_843056b735614b36ad1bd1740a23e4b0\\\n",
      "  Complete output (66 lines):\n",
      "  running bdist_wheel\n",
      "  running build\n",
      "  running build_py\n",
      "  creating build\n",
      "  creating build\\lib.win-amd64-3.8\n",
      "  creating build\\lib.win-amd64-3.8\\glove\n",
      "  copying glove\\corpus.py -> build\\lib.win-amd64-3.8\\glove\n",
      "  copying glove\\glove.py -> build\\lib.win-amd64-3.8\\glove\n",
      "  copying glove\\__init__.py -> build\\lib.win-amd64-3.8\\glove\n",
      "  running build_ext\n",
      "  building 'glove.glove_cython' extension\n",
      "  creating build\\temp.win-amd64-3.8\n",
      "  creating build\\temp.win-amd64-3.8\\Release\n",
      "  creating build\\temp.win-amd64-3.8\\Release\\glove\n",
      "  C:\\Program Files (x86)\\Microsoft Visual Studio 14.0\\VC\\BIN\\x86_amd64\\cl.exe /c /nologo /Ox /W3 /GL /DNDEBUG /MD -Ic:\\users\\윤보경\\appdata\\local\\programs\\python\\python38\\include -Ic:\\users\\윤보경\\appdata\\local\\programs\\python\\python38\\include \"-IC:\\Program Files (x86)\\Microsoft Visual Studio 14.0\\VC\\INCLUDE\" \"-IC:\\Program Files (x86)\\Windows Kits\\10\\include\\10.0.19041.0\\ucrt\" \"-IC:\\Program Files (x86)\\Windows Kits\\10\\include\\10.0.19041.0\\shared\" \"-IC:\\Program Files (x86)\\Windows Kits\\10\\include\\10.0.19041.0\\um\" \"-IC:\\Program Files (x86)\\Windows Kits\\10\\include\\10.0.19041.0\\winrt\" /Tcglove/glove_cython.c /Fobuild\\temp.win-amd64-3.8\\Release\\glove/glove_cython.obj -fopenmp -ffast-math -march=native\n",
      "  cl : Command line warning D9002 : ignoring unknown option '-fopenmp'\n",
      "  cl : Command line warning D9002 : ignoring unknown option '-ffast-math'\n",
      "  cl : Command line warning D9002 : ignoring unknown option '-march=native'\n",
      "  glove_cython.c\n",
      "  glove/glove_cython.c(1692): warning C4244: '=': conversion from 'Py_ssize_t' to 'int', possible loss of data\n",
      "  glove/glove_cython.c(1701): warning C4244: '=': conversion from 'Py_ssize_t' to 'int', possible loss of data\n",
      "  glove/glove_cython.c(2348): warning C4244: '=': conversion from 'Py_ssize_t' to 'int', possible loss of data\n",
      "  glove/glove_cython.c(2357): warning C4244: '=': conversion from 'Py_ssize_t' to 'int', possible loss of data\n",
      "  glove/glove_cython.c(16753): error C2039: 'exc_type': is not a member of '_ts'\n",
      "  c:\\users\\윤보경\\appdata\\local\\programs\\python\\python38\\include\\cpython/pystate.h(51): note: see declaration of '_ts'\n",
      "  glove/glove_cython.c(16754): error C2039: 'exc_value': is not a member of '_ts'\n",
      "  c:\\users\\윤보경\\appdata\\local\\programs\\python\\python38\\include\\cpython/pystate.h(51): note: see declaration of '_ts'\n",
      "  glove/glove_cython.c(16755): error C2039: 'exc_traceback': is not a member of '_ts'\n",
      "  c:\\users\\윤보경\\appdata\\local\\programs\\python\\python38\\include\\cpython/pystate.h(51): note: see declaration of '_ts'\n",
      "  glove/glove_cython.c(16767): error C2039: 'exc_type': is not a member of '_ts'\n",
      "  c:\\users\\윤보경\\appdata\\local\\programs\\python\\python38\\include\\cpython/pystate.h(51): note: see declaration of '_ts'\n",
      "  glove/glove_cython.c(16768): error C2039: 'exc_value': is not a member of '_ts'\n",
      "  c:\\users\\윤보경\\appdata\\local\\programs\\python\\python38\\include\\cpython/pystate.h(51): note: see declaration of '_ts'\n",
      "  glove/glove_cython.c(16769): error C2039: 'exc_traceback': is not a member of '_ts'\n",
      "  c:\\users\\윤보경\\appdata\\local\\programs\\python\\python38\\include\\cpython/pystate.h(51): note: see declaration of '_ts'\n",
      "  glove/glove_cython.c(16770): error C2039: 'exc_type': is not a member of '_ts'\n",
      "  c:\\users\\윤보경\\appdata\\local\\programs\\python\\python38\\include\\cpython/pystate.h(51): note: see declaration of '_ts'\n",
      "  glove/glove_cython.c(16771): error C2039: 'exc_value': is not a member of '_ts'\n",
      "  c:\\users\\윤보경\\appdata\\local\\programs\\python\\python38\\include\\cpython/pystate.h(51): note: see declaration of '_ts'\n",
      "  glove/glove_cython.c(16772): error C2039: 'exc_traceback': is not a member of '_ts'\n",
      "  c:\\users\\윤보경\\appdata\\local\\programs\\python\\python38\\include\\cpython/pystate.h(51): note: see declaration of '_ts'\n",
      "  glove/glove_cython.c(16815): error C2039: 'exc_type': is not a member of '_ts'\n",
      "  c:\\users\\윤보경\\appdata\\local\\programs\\python\\python38\\include\\cpython/pystate.h(51): note: see declaration of '_ts'\n",
      "  glove/glove_cython.c(16816): error C2039: 'exc_value': is not a member of '_ts'\n",
      "  c:\\users\\윤보경\\appdata\\local\\programs\\python\\python38\\include\\cpython/pystate.h(51): note: see declaration of '_ts'\n",
      "  glove/glove_cython.c(16817): error C2039: 'exc_traceback': is not a member of '_ts'\n",
      "  c:\\users\\윤보경\\appdata\\local\\programs\\python\\python38\\include\\cpython/pystate.h(51): note: see declaration of '_ts'\n",
      "  glove/glove_cython.c(16818): error C2039: 'exc_type': is not a member of '_ts'\n",
      "  c:\\users\\윤보경\\appdata\\local\\programs\\python\\python38\\include\\cpython/pystate.h(51): note: see declaration of '_ts'\n",
      "  glove/glove_cython.c(16819): error C2039: 'exc_value': is not a member of '_ts'\n",
      "  c:\\users\\윤보경\\appdata\\local\\programs\\python\\python38\\include\\cpython/pystate.h(51): note: see declaration of '_ts'\n",
      "  glove/glove_cython.c(16820): error C2039: 'exc_traceback': is not a member of '_ts'\n",
      "  c:\\users\\윤보경\\appdata\\local\\programs\\python\\python38\\include\\cpython/pystate.h(51): note: see declaration of '_ts'\n",
      "  glove/glove_cython.c(16842): error C2039: 'exc_type': is not a member of '_ts'\n",
      "  c:\\users\\윤보경\\appdata\\local\\programs\\python\\python38\\include\\cpython/pystate.h(51): note: see declaration of '_ts'\n",
      "  glove/glove_cython.c(16843): error C2039: 'exc_value': is not a member of '_ts'\n",
      "  c:\\users\\윤보경\\appdata\\local\\programs\\python\\python38\\include\\cpython/pystate.h(51): note: see declaration of '_ts'\n",
      "  glove/glove_cython.c(16844): error C2039: 'exc_traceback': is not a member of '_ts'\n",
      "  c:\\users\\윤보경\\appdata\\local\\programs\\python\\python38\\include\\cpython/pystate.h(51): note: see declaration of '_ts'\n",
      "  glove/glove_cython.c(16845): error C2039: 'exc_type': is not a member of '_ts'\n",
      "  c:\\users\\윤보경\\appdata\\local\\programs\\python\\python38\\include\\cpython/pystate.h(51): note: see declaration of '_ts'\n",
      "  glove/glove_cython.c(16846): error C2039: 'exc_value': is not a member of '_ts'\n",
      "  c:\\users\\윤보경\\appdata\\local\\programs\\python\\python38\\include\\cpython/pystate.h(51): note: see declaration of '_ts'\n",
      "  glove/glove_cython.c(16847): error C2039: 'exc_traceback': is not a member of '_ts'\n",
      "  c:\\users\\윤보경\\appdata\\local\\programs\\python\\python38\\include\\cpython/pystate.h(51): note: see declaration of '_ts'\n",
      "  error: command 'C:\\\\Program Files (x86)\\\\Microsoft Visual Studio 14.0\\\\VC\\\\BIN\\\\x86_amd64\\\\cl.exe' failed with exit status 2\n",
      "  ----------------------------------------\n",
      "  ERROR: Failed building wheel for glove-python\n",
      "  ERROR: Command errored out with exit status 1:\n",
      "   command: 'c:\\users\\윤보경\\appdata\\local\\programs\\python\\python38\\python.exe' -u -c 'import sys, setuptools, tokenize; sys.argv[0] = '\"'\"'C:\\\\Users\\\\윤보경\\\\AppData\\\\Local\\\\Temp\\\\pip-install-8uswl14u\\\\glove-python_843056b735614b36ad1bd1740a23e4b0\\\\setup.py'\"'\"'; __file__='\"'\"'C:\\\\Users\\\\윤보경\\\\AppData\\\\Local\\\\Temp\\\\pip-install-8uswl14u\\\\glove-python_843056b735614b36ad1bd1740a23e4b0\\\\setup.py'\"'\"';f=getattr(tokenize, '\"'\"'open'\"'\"', open)(__file__);code=f.read().replace('\"'\"'\\r\\n'\"'\"', '\"'\"'\\n'\"'\"');f.close();exec(compile(code, __file__, '\"'\"'exec'\"'\"'))' clean --all\n",
      "       cwd: C:\\Users\\윤보경\\AppData\\Local\\Temp\\pip-install-8uswl14u\\glove-python_843056b735614b36ad1bd1740a23e4b0\n",
      "  Complete output (6 lines):\n",
      "  usage: setup.py [global_opts] cmd1 [cmd1_opts] [cmd2 [cmd2_opts] ...]\n",
      "     or: setup.py --help [cmd1 cmd2 ...]\n",
      "     or: setup.py --help-commands\n",
      "     or: setup.py cmd --help\n",
      "  \n",
      "  error: option --all not recognized\n",
      "  ----------------------------------------\n",
      "  ERROR: Failed cleaning build dir for glove-python\n",
      "    ERROR: Command errored out with exit status 1:\n",
      "     command: 'c:\\users\\윤보경\\appdata\\local\\programs\\python\\python38\\python.exe' -u -c 'import sys, setuptools, tokenize; sys.argv[0] = '\"'\"'C:\\\\Users\\\\윤보경\\\\AppData\\\\Local\\\\Temp\\\\pip-install-8uswl14u\\\\glove-python_843056b735614b36ad1bd1740a23e4b0\\\\setup.py'\"'\"'; __file__='\"'\"'C:\\\\Users\\\\윤보경\\\\AppData\\\\Local\\\\Temp\\\\pip-install-8uswl14u\\\\glove-python_843056b735614b36ad1bd1740a23e4b0\\\\setup.py'\"'\"';f=getattr(tokenize, '\"'\"'open'\"'\"', open)(__file__);code=f.read().replace('\"'\"'\\r\\n'\"'\"', '\"'\"'\\n'\"'\"');f.close();exec(compile(code, __file__, '\"'\"'exec'\"'\"'))' install --record 'C:\\Users\\윤보경\\AppData\\Local\\Temp\\pip-record-ph_nh2oj\\install-record.txt' --single-version-externally-managed --compile --install-headers 'c:\\users\\윤보경\\appdata\\local\\programs\\python\\python38\\Include\\glove-python'\n",
      "         cwd: C:\\Users\\윤보경\\AppData\\Local\\Temp\\pip-install-8uswl14u\\glove-python_843056b735614b36ad1bd1740a23e4b0\\\n",
      "    Complete output (57 lines):\n",
      "    running install\n",
      "    running build\n",
      "    running build_py\n",
      "    running build_ext\n",
      "    building 'glove.glove_cython' extension\n",
      "    C:\\Program Files (x86)\\Microsoft Visual Studio 14.0\\VC\\BIN\\x86_amd64\\cl.exe /c /nologo /Ox /W3 /GL /DNDEBUG /MD -Ic:\\users\\윤보경\\appdata\\local\\programs\\python\\python38\\include -Ic:\\users\\윤보경\\appdata\\local\\programs\\python\\python38\\include \"-IC:\\Program Files (x86)\\Microsoft Visual Studio 14.0\\VC\\INCLUDE\" \"-IC:\\Program Files (x86)\\Windows Kits\\10\\include\\10.0.19041.0\\ucrt\" \"-IC:\\Program Files (x86)\\Windows Kits\\10\\include\\10.0.19041.0\\shared\" \"-IC:\\Program Files (x86)\\Windows Kits\\10\\include\\10.0.19041.0\\um\" \"-IC:\\Program Files (x86)\\Windows Kits\\10\\include\\10.0.19041.0\\winrt\" /Tcglove/glove_cython.c /Fobuild\\temp.win-amd64-3.8\\Release\\glove/glove_cython.obj -fopenmp -ffast-math -march=native\n",
      "    cl : Command line warning D9002 : ignoring unknown option '-fopenmp'\n",
      "    cl : Command line warning D9002 : ignoring unknown option '-ffast-math'\n",
      "    cl : Command line warning D9002 : ignoring unknown option '-march=native'\n",
      "    glove_cython.c\n",
      "    glove/glove_cython.c(1692): warning C4244: '=': conversion from 'Py_ssize_t' to 'int', possible loss of data\n",
      "    glove/glove_cython.c(1701): warning C4244: '=': conversion from 'Py_ssize_t' to 'int', possible loss of data\n",
      "    glove/glove_cython.c(2348): warning C4244: '=': conversion from 'Py_ssize_t' to 'int', possible loss of data\n",
      "    glove/glove_cython.c(2357): warning C4244: '=': conversion from 'Py_ssize_t' to 'int', possible loss of data\n",
      "    glove/glove_cython.c(16753): error C2039: 'exc_type': is not a member of '_ts'\n",
      "    c:\\users\\윤보경\\appdata\\local\\programs\\python\\python38\\include\\cpython/pystate.h(51): note: see declaration of '_ts'\n",
      "    glove/glove_cython.c(16754): error C2039: 'exc_value': is not a member of '_ts'\n",
      "    c:\\users\\윤보경\\appdata\\local\\programs\\python\\python38\\include\\cpython/pystate.h(51): note: see declaration of '_ts'\n",
      "    glove/glove_cython.c(16755): error C2039: 'exc_traceback': is not a member of '_ts'\n",
      "    c:\\users\\윤보경\\appdata\\local\\programs\\python\\python38\\include\\cpython/pystate.h(51): note: see declaration of '_ts'\n",
      "    glove/glove_cython.c(16767): error C2039: 'exc_type': is not a member of '_ts'\n",
      "    c:\\users\\윤보경\\appdata\\local\\programs\\python\\python38\\include\\cpython/pystate.h(51): note: see declaration of '_ts'\n",
      "    glove/glove_cython.c(16768): error C2039: 'exc_value': is not a member of '_ts'\n",
      "    c:\\users\\윤보경\\appdata\\local\\programs\\python\\python38\\include\\cpython/pystate.h(51): note: see declaration of '_ts'\n",
      "    glove/glove_cython.c(16769): error C2039: 'exc_traceback': is not a member of '_ts'\n",
      "    c:\\users\\윤보경\\appdata\\local\\programs\\python\\python38\\include\\cpython/pystate.h(51): note: see declaration of '_ts'\n",
      "    glove/glove_cython.c(16770): error C2039: 'exc_type': is not a member of '_ts'\n",
      "    c:\\users\\윤보경\\appdata\\local\\programs\\python\\python38\\include\\cpython/pystate.h(51): note: see declaration of '_ts'\n",
      "    glove/glove_cython.c(16771): error C2039: 'exc_value': is not a member of '_ts'\n",
      "    c:\\users\\윤보경\\appdata\\local\\programs\\python\\python38\\include\\cpython/pystate.h(51): note: see declaration of '_ts'\n",
      "    glove/glove_cython.c(16772): error C2039: 'exc_traceback': is not a member of '_ts'\n",
      "    c:\\users\\윤보경\\appdata\\local\\programs\\python\\python38\\include\\cpython/pystate.h(51): note: see declaration of '_ts'\n",
      "    glove/glove_cython.c(16815): error C2039: 'exc_type': is not a member of '_ts'\n",
      "    c:\\users\\윤보경\\appdata\\local\\programs\\python\\python38\\include\\cpython/pystate.h(51): note: see declaration of '_ts'\n",
      "    glove/glove_cython.c(16816): error C2039: 'exc_value': is not a member of '_ts'\n",
      "    c:\\users\\윤보경\\appdata\\local\\programs\\python\\python38\\include\\cpython/pystate.h(51): note: see declaration of '_ts'\n",
      "    glove/glove_cython.c(16817): error C2039: 'exc_traceback': is not a member of '_ts'\n",
      "    c:\\users\\윤보경\\appdata\\local\\programs\\python\\python38\\include\\cpython/pystate.h(51): note: see declaration of '_ts'\n",
      "    glove/glove_cython.c(16818): error C2039: 'exc_type': is not a member of '_ts'\n",
      "    c:\\users\\윤보경\\appdata\\local\\programs\\python\\python38\\include\\cpython/pystate.h(51): note: see declaration of '_ts'\n",
      "    glove/glove_cython.c(16819): error C2039: 'exc_value': is not a member of '_ts'\n",
      "    c:\\users\\윤보경\\appdata\\local\\programs\\python\\python38\\include\\cpython/pystate.h(51): note: see declaration of '_ts'\n",
      "    glove/glove_cython.c(16820): error C2039: 'exc_traceback': is not a member of '_ts'\n",
      "    c:\\users\\윤보경\\appdata\\local\\programs\\python\\python38\\include\\cpython/pystate.h(51): note: see declaration of '_ts'\n",
      "    glove/glove_cython.c(16842): error C2039: 'exc_type': is not a member of '_ts'\n",
      "    c:\\users\\윤보경\\appdata\\local\\programs\\python\\python38\\include\\cpython/pystate.h(51): note: see declaration of '_ts'\n",
      "    glove/glove_cython.c(16843): error C2039: 'exc_value': is not a member of '_ts'\n",
      "    c:\\users\\윤보경\\appdata\\local\\programs\\python\\python38\\include\\cpython/pystate.h(51): note: see declaration of '_ts'\n",
      "    glove/glove_cython.c(16844): error C2039: 'exc_traceback': is not a member of '_ts'\n",
      "    c:\\users\\윤보경\\appdata\\local\\programs\\python\\python38\\include\\cpython/pystate.h(51): note: see declaration of '_ts'\n",
      "    glove/glove_cython.c(16845): error C2039: 'exc_type': is not a member of '_ts'\n",
      "    c:\\users\\윤보경\\appdata\\local\\programs\\python\\python38\\include\\cpython/pystate.h(51): note: see declaration of '_ts'\n",
      "    glove/glove_cython.c(16846): error C2039: 'exc_value': is not a member of '_ts'\n",
      "    c:\\users\\윤보경\\appdata\\local\\programs\\python\\python38\\include\\cpython/pystate.h(51): note: see declaration of '_ts'\n",
      "    glove/glove_cython.c(16847): error C2039: 'exc_traceback': is not a member of '_ts'\n",
      "    c:\\users\\윤보경\\appdata\\local\\programs\\python\\python38\\include\\cpython/pystate.h(51): note: see declaration of '_ts'\n",
      "    error: command 'C:\\\\Program Files (x86)\\\\Microsoft Visual Studio 14.0\\\\VC\\\\BIN\\\\x86_amd64\\\\cl.exe' failed with exit status 2\n",
      "    ----------------------------------------\n",
      "ERROR: Command errored out with exit status 1: 'c:\\users\\윤보경\\appdata\\local\\programs\\python\\python38\\python.exe' -u -c 'import sys, setuptools, tokenize; sys.argv[0] = '\"'\"'C:\\\\Users\\\\윤보경\\\\AppData\\\\Local\\\\Temp\\\\pip-install-8uswl14u\\\\glove-python_843056b735614b36ad1bd1740a23e4b0\\\\setup.py'\"'\"'; __file__='\"'\"'C:\\\\Users\\\\윤보경\\\\AppData\\\\Local\\\\Temp\\\\pip-install-8uswl14u\\\\glove-python_843056b735614b36ad1bd1740a23e4b0\\\\setup.py'\"'\"';f=getattr(tokenize, '\"'\"'open'\"'\"', open)(__file__);code=f.read().replace('\"'\"'\\r\\n'\"'\"', '\"'\"'\\n'\"'\"');f.close();exec(compile(code, __file__, '\"'\"'exec'\"'\"'))' install --record 'C:\\Users\\윤보경\\AppData\\Local\\Temp\\pip-record-ph_nh2oj\\install-record.txt' --single-version-externally-managed --compile --install-headers 'c:\\users\\윤보경\\appdata\\local\\programs\\python\\python38\\Include\\glove-python' Check the logs for full command output.\n"
     ]
    }
   ],
   "source": [
    "!pip install glove_python"
   ]
  },
  {
   "cell_type": "code",
   "execution_count": 3,
   "id": "incredible-falls",
   "metadata": {},
   "outputs": [
    {
     "name": "stderr",
     "output_type": "stream",
     "text": [
      "[nltk_data] Downloading package punkt to\n",
      "[nltk_data]     C:\\Users\\윤보경\\AppData\\Roaming\\nltk_data...\n",
      "[nltk_data]   Package punkt is already up-to-date!\n"
     ]
    },
    {
     "data": {
      "text/plain": [
       "True"
      ]
     },
     "execution_count": 3,
     "metadata": {},
     "output_type": "execute_result"
    }
   ],
   "source": [
    "import nltk\n",
    "nltk.download('punkt')"
   ]
  },
  {
   "cell_type": "code",
   "execution_count": 4,
   "id": "vanilla-milwaukee",
   "metadata": {},
   "outputs": [],
   "source": [
    "import urllib.request\n",
    "import zipfile\n",
    "from lxml import etree\n",
    "import re\n",
    "from nltk.tokenize import word_tokenize, sent_tokenize"
   ]
  },
  {
   "cell_type": "code",
   "execution_count": 5,
   "id": "lucky-evaluation",
   "metadata": {},
   "outputs": [
    {
     "data": {
      "text/plain": [
       "('ted_en-20160408.xml', <http.client.HTTPMessage at 0x2d1a566aeb0>)"
      ]
     },
     "execution_count": 5,
     "metadata": {},
     "output_type": "execute_result"
    }
   ],
   "source": [
    "urllib.request.urlretrieve(\"https://raw.githubusercontent.com/GaoleMeng/RNN-and-FFNN-textClassification/master/ted_en-20160408.xml\", filename=\"ted_en-20160408.xml\")"
   ]
  },
  {
   "cell_type": "code",
   "execution_count": 6,
   "id": "hungry-passion",
   "metadata": {},
   "outputs": [],
   "source": [
    "targetXML=open('ted_en-20160408.xml', 'r', encoding='UTF8')\n",
    "target_text = etree.parse(targetXML)\n",
    "\n",
    "# xml 파일로부터 <content>와 </content> 사이의 내용만 가져온다.\n",
    "parse_text = '\\n'.join(target_text.xpath('//content/text()'))\n",
    "\n",
    "# 정규 표현식의 sub 모듈을 통해 content 중간에 등장하는 (Audio), (Laughter) 등의 배경음 부분을 제거.\n",
    "# 해당 코드는 괄호로 구성된 내용을 제거.\n",
    "content_text = re.sub(r'\\([^)]*\\)', '', parse_text)\n",
    "\n",
    "# 입력 코퍼스에 대해서 NLTK를 이용하여 문장 토큰화를 수행.\n",
    "sent_text = sent_tokenize(content_text)\n",
    "\n",
    "# 각 문장에 대해서 구두점을 제거하고, 대문자를 소문자로 변환.\n",
    "normalized_text = []\n",
    "for string in sent_text:\n",
    "     tokens = re.sub(r\"[^a-z0-9]+\", \" \", string.lower())\n",
    "     normalized_text.append(tokens)\n",
    "\n",
    "# 각 문장에 대해서 NLTK를 이용하여 단어 토큰화를 수행.\n",
    "result = [word_tokenize(sentence) for sentence in normalized_text]"
   ]
  },
  {
   "cell_type": "code",
   "execution_count": 7,
   "id": "accepting-thursday",
   "metadata": {},
   "outputs": [
    {
     "name": "stderr",
     "output_type": "stream",
     "text": [
      "c:\\users\\윤보경\\appdata\\local\\programs\\python\\python38\\lib\\site-packages\\Cython\\Compiler\\Main.py:369: FutureWarning: Cython directive 'language_level' not set, using 2 for now (Py2). This will change in a later release! File: c:\\users\\윤보경\\appdata\\local\\programs\\python\\python38\\lib\\site-packages\\glove\\glove_inner.pyx\n",
      "  tree = Parsing.p_module(s, pxd, full_module_name)\n"
     ]
    },
    {
     "ename": "ImportError",
     "evalue": "cannot import name 'Corpus' from 'glove' (c:\\users\\윤보경\\appdata\\local\\programs\\python\\python38\\lib\\site-packages\\glove\\__init__.py)",
     "output_type": "error",
     "traceback": [
      "\u001b[1;31m---------------------------------------------------------------------------\u001b[0m",
      "\u001b[1;31mImportError\u001b[0m                               Traceback (most recent call last)",
      "\u001b[1;32m<ipython-input-7-050c469f3f5f>\u001b[0m in \u001b[0;36m<module>\u001b[1;34m\u001b[0m\n\u001b[1;32m----> 1\u001b[1;33m \u001b[1;32mfrom\u001b[0m \u001b[0mglove\u001b[0m \u001b[1;32mimport\u001b[0m \u001b[0mCorpus\u001b[0m\u001b[1;33m,\u001b[0m \u001b[0mGlove\u001b[0m\u001b[1;33m\u001b[0m\u001b[1;33m\u001b[0m\u001b[0m\n\u001b[0m\u001b[0;32m      2\u001b[0m \u001b[1;33m\u001b[0m\u001b[0m\n\u001b[0;32m      3\u001b[0m \u001b[0mcorpus\u001b[0m \u001b[1;33m=\u001b[0m \u001b[0mCorpus\u001b[0m\u001b[1;33m(\u001b[0m\u001b[1;33m)\u001b[0m\u001b[1;33m\u001b[0m\u001b[1;33m\u001b[0m\u001b[0m\n\u001b[0;32m      4\u001b[0m \u001b[0mcorpus\u001b[0m\u001b[1;33m.\u001b[0m\u001b[0mfit\u001b[0m\u001b[1;33m(\u001b[0m\u001b[0mresult\u001b[0m\u001b[1;33m,\u001b[0m \u001b[0mwindow\u001b[0m\u001b[1;33m=\u001b[0m\u001b[1;36m5\u001b[0m\u001b[1;33m)\u001b[0m\u001b[1;33m\u001b[0m\u001b[1;33m\u001b[0m\u001b[0m\n\u001b[0;32m      5\u001b[0m \u001b[1;31m# 훈련 데이터로부터 GloVe에서 사용할 동시 등장 행렬 생성\u001b[0m\u001b[1;33m\u001b[0m\u001b[1;33m\u001b[0m\u001b[1;33m\u001b[0m\u001b[0m\n",
      "\u001b[1;31mImportError\u001b[0m: cannot import name 'Corpus' from 'glove' (c:\\users\\윤보경\\appdata\\local\\programs\\python\\python38\\lib\\site-packages\\glove\\__init__.py)"
     ]
    }
   ],
   "source": [
    "from glove import Corpus, Glove\n",
    "\n",
    "corpus = Corpus() \n",
    "corpus.fit(result, window=5)\n",
    "# 훈련 데이터로부터 GloVe에서 사용할 동시 등장 행렬 생성\n",
    "\n",
    "glove = Glove(no_components=100, learning_rate=0.05)\n",
    "glove.fit(corpus.matrix, epochs=20, no_threads=4, verbose=True)\n",
    "glove.add_dictionary(corpus.dictionary)\n",
    "# 학습에 이용할 쓰레드의 개수는 4로 설정, 에포크는 20."
   ]
  },
  {
   "cell_type": "code",
   "execution_count": null,
   "id": "short-adaptation",
   "metadata": {},
   "outputs": [],
   "source": []
  }
 ],
 "metadata": {
  "kernelspec": {
   "display_name": "Python 3",
   "language": "python",
   "name": "python3"
  },
  "language_info": {
   "codemirror_mode": {
    "name": "ipython",
    "version": 3
   },
   "file_extension": ".py",
   "mimetype": "text/x-python",
   "name": "python",
   "nbconvert_exporter": "python",
   "pygments_lexer": "ipython3",
   "version": "3.8.6"
  }
 },
 "nbformat": 4,
 "nbformat_minor": 5
}
