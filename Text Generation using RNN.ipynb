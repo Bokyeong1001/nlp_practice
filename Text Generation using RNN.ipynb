{
 "cells": [
  {
   "cell_type": "code",
   "execution_count": 2,
   "id": "amateur-surgery",
   "metadata": {},
   "outputs": [],
   "source": [
    "from tensorflow.keras.preprocessing.text import Tokenizer\n",
    "from tensorflow.keras.preprocessing.sequence import pad_sequences\n",
    "import numpy as np\n",
    "from tensorflow.keras.utils import to_categorical"
   ]
  },
  {
   "cell_type": "code",
   "execution_count": 3,
   "id": "referenced-extent",
   "metadata": {},
   "outputs": [],
   "source": [
    "text=\"\"\"경마장에 있는 말이 뛰고 있다\\n\n",
    "그의 말이 법이다\\n\n",
    "가는 말이 고와야 오는 말이 곱다\\n\"\"\""
   ]
  },
  {
   "cell_type": "code",
   "execution_count": 4,
   "id": "split-baltimore",
   "metadata": {},
   "outputs": [
    {
     "name": "stdout",
     "output_type": "stream",
     "text": [
      "단어 집합의 크기 : 12\n"
     ]
    }
   ],
   "source": [
    "t = Tokenizer()\n",
    "t.fit_on_texts([text])\n",
    "vocab_size = len(t.word_index) + 1\n",
    "# 케라스 토크나이저의 정수 인코딩은 인덱스가 1부터 시작하지만,\n",
    "# 케라스 원-핫 인코딩에서 배열의 인덱스가 0부터 시작하기 때문에\n",
    "# 배열의 크기를 실제 단어 집합의 크기보다 +1로 생성해야하므로 미리 +1 선언 \n",
    "print('단어 집합의 크기 : %d' % vocab_size)"
   ]
  },
  {
   "cell_type": "code",
   "execution_count": 5,
   "id": "iraqi-worse",
   "metadata": {},
   "outputs": [
    {
     "name": "stdout",
     "output_type": "stream",
     "text": [
      "{'말이': 1, '경마장에': 2, '있는': 3, '뛰고': 4, '있다': 5, '그의': 6, '법이다': 7, '가는': 8, '고와야': 9, '오는': 10, '곱다': 11}\n"
     ]
    }
   ],
   "source": [
    "print(t.word_index)"
   ]
  },
  {
   "cell_type": "code",
   "execution_count": 6,
   "id": "hungry-cleaning",
   "metadata": {},
   "outputs": [
    {
     "name": "stdout",
     "output_type": "stream",
     "text": [
      "학습에 사용할 샘플의 개수: 11\n"
     ]
    }
   ],
   "source": [
    "sequences = list()\n",
    "for line in text.split('\\n'): # Wn을 기준으로 문장 토큰화\n",
    "    encoded = t.texts_to_sequences([line])[0]\n",
    "    for i in range(1, len(encoded)):\n",
    "        sequence = encoded[:i+1]\n",
    "        sequences.append(sequence)\n",
    "\n",
    "print('학습에 사용할 샘플의 개수: %d' % len(sequences))"
   ]
  },
  {
   "cell_type": "code",
   "execution_count": 7,
   "id": "blond-inside",
   "metadata": {},
   "outputs": [
    {
     "name": "stdout",
     "output_type": "stream",
     "text": [
      "[[2, 3], [2, 3, 1], [2, 3, 1, 4], [2, 3, 1, 4, 5], [6, 1], [6, 1, 7], [8, 1], [8, 1, 9], [8, 1, 9, 10], [8, 1, 9, 10, 1], [8, 1, 9, 10, 1, 11]]\n"
     ]
    }
   ],
   "source": [
    "print(sequences)"
   ]
  },
  {
   "cell_type": "code",
   "execution_count": 8,
   "id": "loving-opportunity",
   "metadata": {},
   "outputs": [
    {
     "name": "stdout",
     "output_type": "stream",
     "text": [
      "샘플의 최대 길이 : 6\n"
     ]
    }
   ],
   "source": [
    "max_len=max(len(l) for l in sequences) # 모든 샘플에서 길이가 가장 긴 샘플의 길이 출력\n",
    "print('샘플의 최대 길이 : {}'.format(max_len))"
   ]
  },
  {
   "cell_type": "code",
   "execution_count": 9,
   "id": "suitable-denver",
   "metadata": {},
   "outputs": [],
   "source": [
    "sequences = pad_sequences(sequences, maxlen=max_len, padding='pre')"
   ]
  },
  {
   "cell_type": "code",
   "execution_count": 10,
   "id": "stone-filling",
   "metadata": {},
   "outputs": [
    {
     "name": "stdout",
     "output_type": "stream",
     "text": [
      "[[ 0  0  0  0  2  3]\n",
      " [ 0  0  0  2  3  1]\n",
      " [ 0  0  2  3  1  4]\n",
      " [ 0  2  3  1  4  5]\n",
      " [ 0  0  0  0  6  1]\n",
      " [ 0  0  0  6  1  7]\n",
      " [ 0  0  0  0  8  1]\n",
      " [ 0  0  0  8  1  9]\n",
      " [ 0  0  8  1  9 10]\n",
      " [ 0  8  1  9 10  1]\n",
      " [ 8  1  9 10  1 11]]\n"
     ]
    }
   ],
   "source": [
    "print(sequences)"
   ]
  },
  {
   "cell_type": "code",
   "execution_count": 11,
   "id": "streaming-commander",
   "metadata": {},
   "outputs": [],
   "source": [
    "sequences = np.array(sequences)\n",
    "X = sequences[:,:-1]\n",
    "y = sequences[:,-1]\n",
    "# 리스트의 마지막 값을 제외하고 저장한 것은 X\n",
    "# 리스트의 마지막 값만 저장한 것은 y. 이는 레이블에 해당됨."
   ]
  },
  {
   "cell_type": "code",
   "execution_count": 12,
   "id": "round-notice",
   "metadata": {},
   "outputs": [
    {
     "name": "stdout",
     "output_type": "stream",
     "text": [
      "[[ 0  0  0  0  2]\n",
      " [ 0  0  0  2  3]\n",
      " [ 0  0  2  3  1]\n",
      " [ 0  2  3  1  4]\n",
      " [ 0  0  0  0  6]\n",
      " [ 0  0  0  6  1]\n",
      " [ 0  0  0  0  8]\n",
      " [ 0  0  0  8  1]\n",
      " [ 0  0  8  1  9]\n",
      " [ 0  8  1  9 10]\n",
      " [ 8  1  9 10  1]]\n"
     ]
    }
   ],
   "source": [
    "print(X)"
   ]
  },
  {
   "cell_type": "code",
   "execution_count": 13,
   "id": "important-parent",
   "metadata": {},
   "outputs": [
    {
     "name": "stdout",
     "output_type": "stream",
     "text": [
      "[ 3  1  4  5  1  7  1  9 10  1 11]\n"
     ]
    }
   ],
   "source": [
    "print(y) # 모든 샘플에 대한 레이블 출력"
   ]
  },
  {
   "cell_type": "code",
   "execution_count": 14,
   "id": "false-concentrate",
   "metadata": {},
   "outputs": [],
   "source": [
    "y = to_categorical(y, num_classes=vocab_size)"
   ]
  },
  {
   "cell_type": "code",
   "execution_count": 15,
   "id": "further-procedure",
   "metadata": {},
   "outputs": [],
   "source": [
    "from tensorflow.keras.models import Sequential\n",
    "from tensorflow.keras.layers import Embedding, Dense, SimpleRNN"
   ]
  },
  {
   "cell_type": "code",
   "execution_count": 16,
   "id": "standing-wells",
   "metadata": {},
   "outputs": [
    {
     "name": "stdout",
     "output_type": "stream",
     "text": [
      "Epoch 1/200\n",
      "1/1 - 1s - loss: 2.4887 - accuracy: 0.0000e+00\n",
      "Epoch 2/200\n",
      "1/1 - 0s - loss: 2.4713 - accuracy: 0.0000e+00\n",
      "Epoch 3/200\n",
      "1/1 - 0s - loss: 2.4541 - accuracy: 0.0909\n",
      "Epoch 4/200\n",
      "1/1 - 0s - loss: 2.4370 - accuracy: 0.2727\n",
      "Epoch 5/200\n",
      "1/1 - 0s - loss: 2.4199 - accuracy: 0.3636\n",
      "Epoch 6/200\n",
      "1/1 - 0s - loss: 2.4026 - accuracy: 0.3636\n",
      "Epoch 7/200\n",
      "1/1 - 0s - loss: 2.3851 - accuracy: 0.5455\n",
      "Epoch 8/200\n",
      "1/1 - 0s - loss: 2.3672 - accuracy: 0.5455\n",
      "Epoch 9/200\n",
      "1/1 - 0s - loss: 2.3488 - accuracy: 0.5455\n",
      "Epoch 10/200\n",
      "1/1 - 0s - loss: 2.3299 - accuracy: 0.4545\n",
      "Epoch 11/200\n",
      "1/1 - 0s - loss: 2.3103 - accuracy: 0.4545\n",
      "Epoch 12/200\n",
      "1/1 - 0s - loss: 2.2900 - accuracy: 0.3636\n",
      "Epoch 13/200\n",
      "1/1 - 0s - loss: 2.2688 - accuracy: 0.3636\n",
      "Epoch 14/200\n",
      "1/1 - 0s - loss: 2.2468 - accuracy: 0.3636\n",
      "Epoch 15/200\n",
      "1/1 - 0s - loss: 2.2239 - accuracy: 0.3636\n",
      "Epoch 16/200\n",
      "1/1 - 0s - loss: 2.2000 - accuracy: 0.3636\n",
      "Epoch 17/200\n",
      "1/1 - 0s - loss: 2.1753 - accuracy: 0.3636\n",
      "Epoch 18/200\n",
      "1/1 - 0s - loss: 2.1497 - accuracy: 0.3636\n",
      "Epoch 19/200\n",
      "1/1 - 0s - loss: 2.1234 - accuracy: 0.3636\n",
      "Epoch 20/200\n",
      "1/1 - 0s - loss: 2.0964 - accuracy: 0.3636\n",
      "Epoch 21/200\n",
      "1/1 - 0s - loss: 2.0689 - accuracy: 0.3636\n",
      "Epoch 22/200\n",
      "1/1 - 0s - loss: 2.0412 - accuracy: 0.3636\n",
      "Epoch 23/200\n",
      "1/1 - 0s - loss: 2.0135 - accuracy: 0.3636\n",
      "Epoch 24/200\n",
      "1/1 - 0s - loss: 1.9862 - accuracy: 0.3636\n",
      "Epoch 25/200\n",
      "1/1 - 0s - loss: 1.9595 - accuracy: 0.3636\n",
      "Epoch 26/200\n",
      "1/1 - 0s - loss: 1.9340 - accuracy: 0.3636\n",
      "Epoch 27/200\n",
      "1/1 - 0s - loss: 1.9099 - accuracy: 0.3636\n",
      "Epoch 28/200\n",
      "1/1 - 0s - loss: 1.8878 - accuracy: 0.3636\n",
      "Epoch 29/200\n",
      "1/1 - 0s - loss: 1.8677 - accuracy: 0.3636\n",
      "Epoch 30/200\n",
      "1/1 - 0s - loss: 1.8500 - accuracy: 0.3636\n",
      "Epoch 31/200\n",
      "1/1 - 0s - loss: 1.8345 - accuracy: 0.3636\n",
      "Epoch 32/200\n",
      "1/1 - 0s - loss: 1.8211 - accuracy: 0.3636\n",
      "Epoch 33/200\n",
      "1/1 - 0s - loss: 1.8092 - accuracy: 0.3636\n",
      "Epoch 34/200\n",
      "1/1 - 0s - loss: 1.7983 - accuracy: 0.3636\n",
      "Epoch 35/200\n",
      "1/1 - 0s - loss: 1.7878 - accuracy: 0.3636\n",
      "Epoch 36/200\n",
      "1/1 - 0s - loss: 1.7771 - accuracy: 0.3636\n",
      "Epoch 37/200\n",
      "1/1 - 0s - loss: 1.7657 - accuracy: 0.3636\n",
      "Epoch 38/200\n",
      "1/1 - 0s - loss: 1.7533 - accuracy: 0.3636\n",
      "Epoch 39/200\n",
      "1/1 - 0s - loss: 1.7400 - accuracy: 0.3636\n",
      "Epoch 40/200\n",
      "1/1 - 0s - loss: 1.7259 - accuracy: 0.3636\n",
      "Epoch 41/200\n",
      "1/1 - 0s - loss: 1.7111 - accuracy: 0.3636\n",
      "Epoch 42/200\n",
      "1/1 - 0s - loss: 1.6959 - accuracy: 0.3636\n",
      "Epoch 43/200\n",
      "1/1 - 0s - loss: 1.6806 - accuracy: 0.3636\n",
      "Epoch 44/200\n",
      "1/1 - 0s - loss: 1.6654 - accuracy: 0.3636\n",
      "Epoch 45/200\n",
      "1/1 - 0s - loss: 1.6504 - accuracy: 0.3636\n",
      "Epoch 46/200\n",
      "1/1 - 0s - loss: 1.6357 - accuracy: 0.4545\n",
      "Epoch 47/200\n",
      "1/1 - 0s - loss: 1.6212 - accuracy: 0.4545\n",
      "Epoch 48/200\n",
      "1/1 - 0s - loss: 1.6068 - accuracy: 0.5455\n",
      "Epoch 49/200\n",
      "1/1 - 0s - loss: 1.5924 - accuracy: 0.5455\n",
      "Epoch 50/200\n",
      "1/1 - 0s - loss: 1.5779 - accuracy: 0.5455\n",
      "Epoch 51/200\n",
      "1/1 - 0s - loss: 1.5629 - accuracy: 0.5455\n",
      "Epoch 52/200\n",
      "1/1 - 0s - loss: 1.5475 - accuracy: 0.5455\n",
      "Epoch 53/200\n",
      "1/1 - 0s - loss: 1.5315 - accuracy: 0.5455\n",
      "Epoch 54/200\n",
      "1/1 - 0s - loss: 1.5149 - accuracy: 0.5455\n",
      "Epoch 55/200\n",
      "1/1 - 0s - loss: 1.4977 - accuracy: 0.5455\n",
      "Epoch 56/200\n",
      "1/1 - 0s - loss: 1.4799 - accuracy: 0.5455\n",
      "Epoch 57/200\n",
      "1/1 - 0s - loss: 1.4617 - accuracy: 0.5455\n",
      "Epoch 58/200\n",
      "1/1 - 0s - loss: 1.4432 - accuracy: 0.5455\n",
      "Epoch 59/200\n",
      "1/1 - 0s - loss: 1.4243 - accuracy: 0.5455\n",
      "Epoch 60/200\n",
      "1/1 - 0s - loss: 1.4052 - accuracy: 0.5455\n",
      "Epoch 61/200\n",
      "1/1 - 0s - loss: 1.3860 - accuracy: 0.5455\n",
      "Epoch 62/200\n",
      "1/1 - 0s - loss: 1.3666 - accuracy: 0.5455\n",
      "Epoch 63/200\n",
      "1/1 - 0s - loss: 1.3471 - accuracy: 0.5455\n",
      "Epoch 64/200\n",
      "1/1 - 0s - loss: 1.3275 - accuracy: 0.5455\n",
      "Epoch 65/200\n",
      "1/1 - 0s - loss: 1.3077 - accuracy: 0.5455\n",
      "Epoch 66/200\n",
      "1/1 - 0s - loss: 1.2878 - accuracy: 0.5455\n",
      "Epoch 67/200\n",
      "1/1 - 0s - loss: 1.2678 - accuracy: 0.6364\n",
      "Epoch 68/200\n",
      "1/1 - 0s - loss: 1.2478 - accuracy: 0.6364\n",
      "Epoch 69/200\n",
      "1/1 - 0s - loss: 1.2276 - accuracy: 0.6364\n",
      "Epoch 70/200\n",
      "1/1 - 0s - loss: 1.2075 - accuracy: 0.6364\n",
      "Epoch 71/200\n",
      "1/1 - 0s - loss: 1.1875 - accuracy: 0.6364\n",
      "Epoch 72/200\n",
      "1/1 - 0s - loss: 1.1676 - accuracy: 0.6364\n",
      "Epoch 73/200\n",
      "1/1 - 0s - loss: 1.1479 - accuracy: 0.6364\n",
      "Epoch 74/200\n",
      "1/1 - 0s - loss: 1.1284 - accuracy: 0.6364\n",
      "Epoch 75/200\n",
      "1/1 - 0s - loss: 1.1091 - accuracy: 0.6364\n",
      "Epoch 76/200\n",
      "1/1 - 0s - loss: 1.0901 - accuracy: 0.6364\n",
      "Epoch 77/200\n",
      "1/1 - 0s - loss: 1.0714 - accuracy: 0.6364\n",
      "Epoch 78/200\n",
      "1/1 - 0s - loss: 1.0529 - accuracy: 0.6364\n",
      "Epoch 79/200\n",
      "1/1 - 0s - loss: 1.0347 - accuracy: 0.7273\n",
      "Epoch 80/200\n",
      "1/1 - 0s - loss: 1.0168 - accuracy: 0.7273\n",
      "Epoch 81/200\n",
      "1/1 - 0s - loss: 0.9991 - accuracy: 0.7273\n",
      "Epoch 82/200\n",
      "1/1 - 0s - loss: 0.9817 - accuracy: 0.7273\n",
      "Epoch 83/200\n",
      "1/1 - 0s - loss: 0.9645 - accuracy: 0.7273\n",
      "Epoch 84/200\n",
      "1/1 - 0s - loss: 0.9476 - accuracy: 0.7273\n",
      "Epoch 85/200\n",
      "1/1 - 0s - loss: 0.9310 - accuracy: 0.7273\n",
      "Epoch 86/200\n",
      "1/1 - 0s - loss: 0.9146 - accuracy: 0.7273\n",
      "Epoch 87/200\n",
      "1/1 - 0s - loss: 0.8984 - accuracy: 0.7273\n",
      "Epoch 88/200\n",
      "1/1 - 0s - loss: 0.8825 - accuracy: 0.7273\n",
      "Epoch 89/200\n",
      "1/1 - 0s - loss: 0.8668 - accuracy: 0.7273\n",
      "Epoch 90/200\n",
      "1/1 - 0s - loss: 0.8513 - accuracy: 0.7273\n",
      "Epoch 91/200\n",
      "1/1 - 0s - loss: 0.8360 - accuracy: 0.7273\n",
      "Epoch 92/200\n",
      "1/1 - 0s - loss: 0.8209 - accuracy: 0.7273\n",
      "Epoch 93/200\n",
      "1/1 - 0s - loss: 0.8060 - accuracy: 0.7273\n",
      "Epoch 94/200\n",
      "1/1 - 0s - loss: 0.7912 - accuracy: 0.7273\n",
      "Epoch 95/200\n",
      "1/1 - 0s - loss: 0.7767 - accuracy: 0.7273\n",
      "Epoch 96/200\n",
      "1/1 - 0s - loss: 0.7623 - accuracy: 0.7273\n",
      "Epoch 97/200\n",
      "1/1 - 0s - loss: 0.7481 - accuracy: 0.7273\n",
      "Epoch 98/200\n",
      "1/1 - 0s - loss: 0.7340 - accuracy: 0.7273\n",
      "Epoch 99/200\n",
      "1/1 - 0s - loss: 0.7201 - accuracy: 0.7273\n",
      "Epoch 100/200\n",
      "1/1 - 0s - loss: 0.7064 - accuracy: 0.7273\n",
      "Epoch 101/200\n",
      "1/1 - 0s - loss: 0.6928 - accuracy: 0.7273\n",
      "Epoch 102/200\n",
      "1/1 - 0s - loss: 0.6793 - accuracy: 0.7273\n",
      "Epoch 103/200\n",
      "1/1 - 0s - loss: 0.6660 - accuracy: 0.7273\n",
      "Epoch 104/200\n",
      "1/1 - 0s - loss: 0.6529 - accuracy: 0.7273\n",
      "Epoch 105/200\n",
      "1/1 - 0s - loss: 0.6399 - accuracy: 0.7273\n",
      "Epoch 106/200\n",
      "1/1 - 0s - loss: 0.6270 - accuracy: 0.7273\n",
      "Epoch 107/200\n",
      "1/1 - 0s - loss: 0.6143 - accuracy: 0.7273\n",
      "Epoch 108/200\n",
      "1/1 - 0s - loss: 0.6017 - accuracy: 0.7273\n",
      "Epoch 109/200\n",
      "1/1 - 0s - loss: 0.5892 - accuracy: 0.8182\n",
      "Epoch 110/200\n",
      "1/1 - 0s - loss: 0.5769 - accuracy: 0.9091\n",
      "Epoch 111/200\n",
      "1/1 - 0s - loss: 0.5648 - accuracy: 0.9091\n",
      "Epoch 112/200\n",
      "1/1 - 0s - loss: 0.5527 - accuracy: 0.9091\n",
      "Epoch 113/200\n",
      "1/1 - 0s - loss: 0.5409 - accuracy: 0.9091\n",
      "Epoch 114/200\n",
      "1/1 - 0s - loss: 0.5291 - accuracy: 0.9091\n",
      "Epoch 115/200\n",
      "1/1 - 0s - loss: 0.5175 - accuracy: 0.9091\n",
      "Epoch 116/200\n",
      "1/1 - 0s - loss: 0.5061 - accuracy: 1.0000\n",
      "Epoch 117/200\n",
      "1/1 - 0s - loss: 0.4948 - accuracy: 1.0000\n",
      "Epoch 118/200\n",
      "1/1 - 0s - loss: 0.4837 - accuracy: 1.0000\n",
      "Epoch 119/200\n",
      "1/1 - 0s - loss: 0.4727 - accuracy: 1.0000\n",
      "Epoch 120/200\n",
      "1/1 - 0s - loss: 0.4619 - accuracy: 1.0000\n",
      "Epoch 121/200\n",
      "1/1 - 0s - loss: 0.4512 - accuracy: 1.0000\n",
      "Epoch 122/200\n",
      "1/1 - 0s - loss: 0.4407 - accuracy: 1.0000\n",
      "Epoch 123/200\n",
      "1/1 - 0s - loss: 0.4304 - accuracy: 1.0000\n",
      "Epoch 124/200\n",
      "1/1 - 0s - loss: 0.4202 - accuracy: 1.0000\n",
      "Epoch 125/200\n",
      "1/1 - 0s - loss: 0.4102 - accuracy: 1.0000\n",
      "Epoch 126/200\n",
      "1/1 - 0s - loss: 0.4004 - accuracy: 1.0000\n",
      "Epoch 127/200\n",
      "1/1 - 0s - loss: 0.3908 - accuracy: 1.0000\n",
      "Epoch 128/200\n",
      "1/1 - 0s - loss: 0.3813 - accuracy: 1.0000\n",
      "Epoch 129/200\n",
      "1/1 - 0s - loss: 0.3720 - accuracy: 1.0000\n",
      "Epoch 130/200\n",
      "1/1 - 0s - loss: 0.3629 - accuracy: 1.0000\n",
      "Epoch 131/200\n",
      "1/1 - 0s - loss: 0.3540 - accuracy: 1.0000\n",
      "Epoch 132/200\n",
      "1/1 - 0s - loss: 0.3453 - accuracy: 1.0000\n",
      "Epoch 133/200\n",
      "1/1 - 0s - loss: 0.3368 - accuracy: 1.0000\n",
      "Epoch 134/200\n",
      "1/1 - 0s - loss: 0.3284 - accuracy: 1.0000\n",
      "Epoch 135/200\n",
      "1/1 - 0s - loss: 0.3202 - accuracy: 1.0000\n",
      "Epoch 136/200\n",
      "1/1 - 0s - loss: 0.3123 - accuracy: 1.0000\n",
      "Epoch 137/200\n",
      "1/1 - 0s - loss: 0.3045 - accuracy: 1.0000\n",
      "Epoch 138/200\n",
      "1/1 - 0s - loss: 0.2968 - accuracy: 1.0000\n",
      "Epoch 139/200\n",
      "1/1 - 0s - loss: 0.2894 - accuracy: 1.0000\n",
      "Epoch 140/200\n",
      "1/1 - 0s - loss: 0.2822 - accuracy: 1.0000\n",
      "Epoch 141/200\n",
      "1/1 - 0s - loss: 0.2751 - accuracy: 1.0000\n",
      "Epoch 142/200\n",
      "1/1 - 0s - loss: 0.2682 - accuracy: 1.0000\n",
      "Epoch 143/200\n",
      "1/1 - 0s - loss: 0.2615 - accuracy: 1.0000\n",
      "Epoch 144/200\n",
      "1/1 - 0s - loss: 0.2550 - accuracy: 1.0000\n",
      "Epoch 145/200\n",
      "1/1 - 0s - loss: 0.2486 - accuracy: 1.0000\n",
      "Epoch 146/200\n",
      "1/1 - 0s - loss: 0.2424 - accuracy: 1.0000\n"
     ]
    },
    {
     "name": "stdout",
     "output_type": "stream",
     "text": [
      "Epoch 147/200\n",
      "1/1 - 0s - loss: 0.2364 - accuracy: 1.0000\n",
      "Epoch 148/200\n",
      "1/1 - 0s - loss: 0.2306 - accuracy: 1.0000\n",
      "Epoch 149/200\n",
      "1/1 - 0s - loss: 0.2249 - accuracy: 1.0000\n",
      "Epoch 150/200\n",
      "1/1 - 0s - loss: 0.2194 - accuracy: 1.0000\n",
      "Epoch 151/200\n",
      "1/1 - 0s - loss: 0.2140 - accuracy: 1.0000\n",
      "Epoch 152/200\n",
      "1/1 - 0s - loss: 0.2088 - accuracy: 1.0000\n",
      "Epoch 153/200\n",
      "1/1 - 0s - loss: 0.2037 - accuracy: 1.0000\n",
      "Epoch 154/200\n",
      "1/1 - 0s - loss: 0.1988 - accuracy: 1.0000\n",
      "Epoch 155/200\n",
      "1/1 - 0s - loss: 0.1941 - accuracy: 1.0000\n",
      "Epoch 156/200\n",
      "1/1 - 0s - loss: 0.1895 - accuracy: 1.0000\n",
      "Epoch 157/200\n",
      "1/1 - 0s - loss: 0.1850 - accuracy: 1.0000\n",
      "Epoch 158/200\n",
      "1/1 - 0s - loss: 0.1806 - accuracy: 1.0000\n",
      "Epoch 159/200\n",
      "1/1 - 0s - loss: 0.1764 - accuracy: 1.0000\n",
      "Epoch 160/200\n",
      "1/1 - 0s - loss: 0.1723 - accuracy: 1.0000\n",
      "Epoch 161/200\n",
      "1/1 - 0s - loss: 0.1683 - accuracy: 1.0000\n",
      "Epoch 162/200\n",
      "1/1 - 0s - loss: 0.1645 - accuracy: 1.0000\n",
      "Epoch 163/200\n",
      "1/1 - 0s - loss: 0.1607 - accuracy: 1.0000\n",
      "Epoch 164/200\n",
      "1/1 - 0s - loss: 0.1571 - accuracy: 1.0000\n",
      "Epoch 165/200\n",
      "1/1 - 0s - loss: 0.1536 - accuracy: 1.0000\n",
      "Epoch 166/200\n",
      "1/1 - 0s - loss: 0.1502 - accuracy: 1.0000\n",
      "Epoch 167/200\n",
      "1/1 - 0s - loss: 0.1469 - accuracy: 1.0000\n",
      "Epoch 168/200\n",
      "1/1 - 0s - loss: 0.1437 - accuracy: 1.0000\n",
      "Epoch 169/200\n",
      "1/1 - 0s - loss: 0.1406 - accuracy: 1.0000\n",
      "Epoch 170/200\n",
      "1/1 - 0s - loss: 0.1376 - accuracy: 1.0000\n",
      "Epoch 171/200\n",
      "1/1 - 0s - loss: 0.1347 - accuracy: 1.0000\n",
      "Epoch 172/200\n",
      "1/1 - 0s - loss: 0.1319 - accuracy: 1.0000\n",
      "Epoch 173/200\n",
      "1/1 - 0s - loss: 0.1291 - accuracy: 1.0000\n",
      "Epoch 174/200\n",
      "1/1 - 0s - loss: 0.1264 - accuracy: 1.0000\n",
      "Epoch 175/200\n",
      "1/1 - 0s - loss: 0.1239 - accuracy: 1.0000\n",
      "Epoch 176/200\n",
      "1/1 - 0s - loss: 0.1214 - accuracy: 1.0000\n",
      "Epoch 177/200\n",
      "1/1 - 0s - loss: 0.1189 - accuracy: 1.0000\n",
      "Epoch 178/200\n",
      "1/1 - 0s - loss: 0.1165 - accuracy: 1.0000\n",
      "Epoch 179/200\n",
      "1/1 - 0s - loss: 0.1143 - accuracy: 1.0000\n",
      "Epoch 180/200\n",
      "1/1 - 0s - loss: 0.1120 - accuracy: 1.0000\n",
      "Epoch 181/200\n",
      "1/1 - 0s - loss: 0.1099 - accuracy: 1.0000\n",
      "Epoch 182/200\n",
      "1/1 - 0s - loss: 0.1078 - accuracy: 1.0000\n",
      "Epoch 183/200\n",
      "1/1 - 0s - loss: 0.1057 - accuracy: 1.0000\n",
      "Epoch 184/200\n",
      "1/1 - 0s - loss: 0.1037 - accuracy: 1.0000\n",
      "Epoch 185/200\n",
      "1/1 - 0s - loss: 0.1018 - accuracy: 1.0000\n",
      "Epoch 186/200\n",
      "1/1 - 0s - loss: 0.0999 - accuracy: 1.0000\n",
      "Epoch 187/200\n",
      "1/1 - 0s - loss: 0.0981 - accuracy: 1.0000\n",
      "Epoch 188/200\n",
      "1/1 - 0s - loss: 0.0963 - accuracy: 1.0000\n",
      "Epoch 189/200\n",
      "1/1 - 0s - loss: 0.0946 - accuracy: 1.0000\n",
      "Epoch 190/200\n",
      "1/1 - 0s - loss: 0.0929 - accuracy: 1.0000\n",
      "Epoch 191/200\n",
      "1/1 - 0s - loss: 0.0913 - accuracy: 1.0000\n",
      "Epoch 192/200\n",
      "1/1 - 0s - loss: 0.0897 - accuracy: 1.0000\n",
      "Epoch 193/200\n",
      "1/1 - 0s - loss: 0.0881 - accuracy: 1.0000\n",
      "Epoch 194/200\n",
      "1/1 - 0s - loss: 0.0866 - accuracy: 1.0000\n",
      "Epoch 195/200\n",
      "1/1 - 0s - loss: 0.0852 - accuracy: 1.0000\n",
      "Epoch 196/200\n",
      "1/1 - 0s - loss: 0.0837 - accuracy: 1.0000\n",
      "Epoch 197/200\n",
      "1/1 - 0s - loss: 0.0823 - accuracy: 1.0000\n",
      "Epoch 198/200\n",
      "1/1 - 0s - loss: 0.0810 - accuracy: 1.0000\n",
      "Epoch 199/200\n",
      "1/1 - 0s - loss: 0.0797 - accuracy: 1.0000\n",
      "Epoch 200/200\n",
      "1/1 - 0s - loss: 0.0784 - accuracy: 1.0000\n"
     ]
    },
    {
     "data": {
      "text/plain": [
       "<tensorflow.python.keras.callbacks.History at 0x1642dde4e50>"
      ]
     },
     "execution_count": 16,
     "metadata": {},
     "output_type": "execute_result"
    }
   ],
   "source": [
    "model = Sequential()\n",
    "model.add(Embedding(vocab_size, 11, input_length=max_len-1)) # 레이블을 분리하였으므로 이제 X의 길이는 5\n",
    "model.add(SimpleRNN(32))\n",
    "model.add(Dense(vocab_size, activation='softmax'))\n",
    "model.compile(loss='categorical_crossentropy', optimizer='adam', metrics=['accuracy'])\n",
    "model.fit(X, y, epochs=200, verbose=2)"
   ]
  },
  {
   "cell_type": "code",
   "execution_count": 17,
   "id": "vital-strain",
   "metadata": {},
   "outputs": [],
   "source": [
    "def sentence_generation(model, t, current_word, n): # 모델, 토크나이저, 현재 단어, 반복할 횟수\n",
    "    init_word = current_word # 처음 들어온 단어도 마지막에 같이 출력하기위해 저장\n",
    "    sentence = ''\n",
    "    for _ in range(n): # n번 반복\n",
    "        encoded = t.texts_to_sequences([current_word])[0] # 현재 단어에 대한 정수 인코딩\n",
    "        encoded = pad_sequences([encoded], maxlen=5, padding='pre') # 데이터에 대한 패딩\n",
    "        result = model.predict_classes(encoded, verbose=0)\n",
    "    # 입력한 X(현재 단어)에 대해서 Y를 예측하고 Y(예측한 단어)를 result에 저장.\n",
    "        for word, index in t.word_index.items(): \n",
    "            if index == result: # 만약 예측한 단어와 인덱스와 동일한 단어가 있다면\n",
    "                break # 해당 단어가 예측 단어이므로 break\n",
    "        current_word = current_word + ' '  + word # 현재 단어 + ' ' + 예측 단어를 현재 단어로 변경\n",
    "        sentence = sentence + ' ' + word # 예측 단어를 문장에 저장\n",
    "    # for문이므로 이 행동을 다시 반복\n",
    "    sentence = init_word + sentence\n",
    "    return sentence"
   ]
  },
  {
   "cell_type": "code",
   "execution_count": 18,
   "id": "experienced-narrative",
   "metadata": {},
   "outputs": [
    {
     "name": "stderr",
     "output_type": "stream",
     "text": [
      "c:\\users\\윤보경\\appdata\\local\\programs\\python\\python38\\lib\\site-packages\\tensorflow\\python\\keras\\engine\\sequential.py:450: UserWarning: `model.predict_classes()` is deprecated and will be removed after 2021-01-01. Please use instead:* `np.argmax(model.predict(x), axis=-1)`,   if your model does multi-class classification   (e.g. if it uses a `softmax` last-layer activation).* `(model.predict(x) > 0.5).astype(\"int32\")`,   if your model does binary classification   (e.g. if it uses a `sigmoid` last-layer activation).\n",
      "  warnings.warn('`model.predict_classes()` is deprecated and '\n"
     ]
    },
    {
     "name": "stdout",
     "output_type": "stream",
     "text": [
      "경마장에 있는 말이 뛰고 있다\n"
     ]
    }
   ],
   "source": [
    "print(sentence_generation(model, t, '경마장에', 4))\n",
    "# '경마장에' 라는 단어 뒤에는 총 4개의 단어가 있으므로 4번 예측"
   ]
  },
  {
   "cell_type": "code",
   "execution_count": 19,
   "id": "through-concord",
   "metadata": {},
   "outputs": [
    {
     "name": "stdout",
     "output_type": "stream",
     "text": [
      "그의 말이 법이다\n"
     ]
    }
   ],
   "source": [
    "print(sentence_generation(model, t, '그의', 2)) # 2번 예측"
   ]
  },
  {
   "cell_type": "code",
   "execution_count": 20,
   "id": "stuffed-concert",
   "metadata": {},
   "outputs": [
    {
     "name": "stdout",
     "output_type": "stream",
     "text": [
      "가는 말이 고와야 오는 말이 곱다\n"
     ]
    }
   ],
   "source": [
    "print(sentence_generation(model, t, '가는', 5)) # 5번 예측"
   ]
  },
  {
   "cell_type": "code",
   "execution_count": 21,
   "id": "downtown-emergency",
   "metadata": {},
   "outputs": [],
   "source": [
    "import pandas as pd\n",
    "from string import punctuation\n",
    "from tensorflow.keras.preprocessing.text import Tokenizer\n",
    "from tensorflow.keras.preprocessing.sequence import pad_sequences\n",
    "import numpy as np\n",
    "from tensorflow.keras.utils import to_categorical"
   ]
  },
  {
   "cell_type": "code",
   "execution_count": 22,
   "id": "reserved-token",
   "metadata": {},
   "outputs": [
    {
     "data": {
      "text/html": [
       "<div>\n",
       "<style scoped>\n",
       "    .dataframe tbody tr th:only-of-type {\n",
       "        vertical-align: middle;\n",
       "    }\n",
       "\n",
       "    .dataframe tbody tr th {\n",
       "        vertical-align: top;\n",
       "    }\n",
       "\n",
       "    .dataframe thead th {\n",
       "        text-align: right;\n",
       "    }\n",
       "</style>\n",
       "<table border=\"1\" class=\"dataframe\">\n",
       "  <thead>\n",
       "    <tr style=\"text-align: right;\">\n",
       "      <th></th>\n",
       "      <th>articleID</th>\n",
       "      <th>articleWordCount</th>\n",
       "      <th>byline</th>\n",
       "      <th>documentType</th>\n",
       "      <th>headline</th>\n",
       "      <th>keywords</th>\n",
       "      <th>multimedia</th>\n",
       "      <th>newDesk</th>\n",
       "      <th>printPage</th>\n",
       "      <th>pubDate</th>\n",
       "      <th>sectionName</th>\n",
       "      <th>snippet</th>\n",
       "      <th>source</th>\n",
       "      <th>typeOfMaterial</th>\n",
       "      <th>webURL</th>\n",
       "    </tr>\n",
       "  </thead>\n",
       "  <tbody>\n",
       "    <tr>\n",
       "      <th>0</th>\n",
       "      <td>5adf6684068401528a2aa69b</td>\n",
       "      <td>781</td>\n",
       "      <td>By JOHN BRANCH</td>\n",
       "      <td>article</td>\n",
       "      <td>Former N.F.L. Cheerleaders’ Settlement Offer: ...</td>\n",
       "      <td>['Workplace Hazards and Violations', 'Football...</td>\n",
       "      <td>68</td>\n",
       "      <td>Sports</td>\n",
       "      <td>0</td>\n",
       "      <td>2018-04-24 17:16:49</td>\n",
       "      <td>Pro Football</td>\n",
       "      <td>“I understand that they could meet with us, pa...</td>\n",
       "      <td>The New York Times</td>\n",
       "      <td>News</td>\n",
       "      <td>https://www.nytimes.com/2018/04/24/sports/foot...</td>\n",
       "    </tr>\n",
       "    <tr>\n",
       "      <th>1</th>\n",
       "      <td>5adf653f068401528a2aa697</td>\n",
       "      <td>656</td>\n",
       "      <td>By LISA FRIEDMAN</td>\n",
       "      <td>article</td>\n",
       "      <td>E.P.A. to Unveil a New Rule. Its Effect: Less ...</td>\n",
       "      <td>['Environmental Protection Agency', 'Pruitt, S...</td>\n",
       "      <td>68</td>\n",
       "      <td>Climate</td>\n",
       "      <td>0</td>\n",
       "      <td>2018-04-24 17:11:21</td>\n",
       "      <td>Unknown</td>\n",
       "      <td>The agency plans to publish a new regulation T...</td>\n",
       "      <td>The New York Times</td>\n",
       "      <td>News</td>\n",
       "      <td>https://www.nytimes.com/2018/04/24/climate/epa...</td>\n",
       "    </tr>\n",
       "    <tr>\n",
       "      <th>2</th>\n",
       "      <td>5adf4626068401528a2aa628</td>\n",
       "      <td>2427</td>\n",
       "      <td>By PETE WELLS</td>\n",
       "      <td>article</td>\n",
       "      <td>The New Noma, Explained</td>\n",
       "      <td>['Restaurants', 'Noma (Copenhagen, Restaurant)...</td>\n",
       "      <td>66</td>\n",
       "      <td>Dining</td>\n",
       "      <td>0</td>\n",
       "      <td>2018-04-24 14:58:44</td>\n",
       "      <td>Unknown</td>\n",
       "      <td>What’s it like to eat at the second incarnatio...</td>\n",
       "      <td>The New York Times</td>\n",
       "      <td>News</td>\n",
       "      <td>https://www.nytimes.com/2018/04/24/dining/noma...</td>\n",
       "    </tr>\n",
       "    <tr>\n",
       "      <th>3</th>\n",
       "      <td>5adf40d2068401528a2aa619</td>\n",
       "      <td>626</td>\n",
       "      <td>By JULIE HIRSCHFELD DAVIS and PETER BAKER</td>\n",
       "      <td>article</td>\n",
       "      <td>Unknown</td>\n",
       "      <td>['Macron, Emmanuel (1977- )', 'Trump, Donald J...</td>\n",
       "      <td>68</td>\n",
       "      <td>Washington</td>\n",
       "      <td>0</td>\n",
       "      <td>2018-04-24 14:35:57</td>\n",
       "      <td>Europe</td>\n",
       "      <td>President Trump welcomed President Emmanuel Ma...</td>\n",
       "      <td>The New York Times</td>\n",
       "      <td>News</td>\n",
       "      <td>https://www.nytimes.com/2018/04/24/world/europ...</td>\n",
       "    </tr>\n",
       "    <tr>\n",
       "      <th>4</th>\n",
       "      <td>5adf3d64068401528a2aa60f</td>\n",
       "      <td>815</td>\n",
       "      <td>By IAN AUSTEN and DAN BILEFSKY</td>\n",
       "      <td>article</td>\n",
       "      <td>Unknown</td>\n",
       "      <td>['Toronto, Ontario, Attack (April, 2018)', 'Mu...</td>\n",
       "      <td>68</td>\n",
       "      <td>Foreign</td>\n",
       "      <td>0</td>\n",
       "      <td>2018-04-24 14:21:21</td>\n",
       "      <td>Canada</td>\n",
       "      <td>Alek Minassian, 25, a resident of Toronto’s Ri...</td>\n",
       "      <td>The New York Times</td>\n",
       "      <td>News</td>\n",
       "      <td>https://www.nytimes.com/2018/04/24/world/canad...</td>\n",
       "    </tr>\n",
       "  </tbody>\n",
       "</table>\n",
       "</div>"
      ],
      "text/plain": [
       "                  articleID  articleWordCount  \\\n",
       "0  5adf6684068401528a2aa69b               781   \n",
       "1  5adf653f068401528a2aa697               656   \n",
       "2  5adf4626068401528a2aa628              2427   \n",
       "3  5adf40d2068401528a2aa619               626   \n",
       "4  5adf3d64068401528a2aa60f               815   \n",
       "\n",
       "                                      byline documentType  \\\n",
       "0                             By JOHN BRANCH      article   \n",
       "1                           By LISA FRIEDMAN      article   \n",
       "2                              By PETE WELLS      article   \n",
       "3  By JULIE HIRSCHFELD DAVIS and PETER BAKER      article   \n",
       "4             By IAN AUSTEN and DAN BILEFSKY      article   \n",
       "\n",
       "                                            headline  \\\n",
       "0  Former N.F.L. Cheerleaders’ Settlement Offer: ...   \n",
       "1  E.P.A. to Unveil a New Rule. Its Effect: Less ...   \n",
       "2                            The New Noma, Explained   \n",
       "3                                            Unknown   \n",
       "4                                            Unknown   \n",
       "\n",
       "                                            keywords  multimedia     newDesk  \\\n",
       "0  ['Workplace Hazards and Violations', 'Football...          68      Sports   \n",
       "1  ['Environmental Protection Agency', 'Pruitt, S...          68     Climate   \n",
       "2  ['Restaurants', 'Noma (Copenhagen, Restaurant)...          66      Dining   \n",
       "3  ['Macron, Emmanuel (1977- )', 'Trump, Donald J...          68  Washington   \n",
       "4  ['Toronto, Ontario, Attack (April, 2018)', 'Mu...          68     Foreign   \n",
       "\n",
       "   printPage              pubDate   sectionName  \\\n",
       "0          0  2018-04-24 17:16:49  Pro Football   \n",
       "1          0  2018-04-24 17:11:21       Unknown   \n",
       "2          0  2018-04-24 14:58:44       Unknown   \n",
       "3          0  2018-04-24 14:35:57        Europe   \n",
       "4          0  2018-04-24 14:21:21        Canada   \n",
       "\n",
       "                                             snippet              source  \\\n",
       "0  “I understand that they could meet with us, pa...  The New York Times   \n",
       "1  The agency plans to publish a new regulation T...  The New York Times   \n",
       "2  What’s it like to eat at the second incarnatio...  The New York Times   \n",
       "3  President Trump welcomed President Emmanuel Ma...  The New York Times   \n",
       "4  Alek Minassian, 25, a resident of Toronto’s Ri...  The New York Times   \n",
       "\n",
       "  typeOfMaterial                                             webURL  \n",
       "0           News  https://www.nytimes.com/2018/04/24/sports/foot...  \n",
       "1           News  https://www.nytimes.com/2018/04/24/climate/epa...  \n",
       "2           News  https://www.nytimes.com/2018/04/24/dining/noma...  \n",
       "3           News  https://www.nytimes.com/2018/04/24/world/europ...  \n",
       "4           News  https://www.nytimes.com/2018/04/24/world/canad...  "
      ]
     },
     "execution_count": 22,
     "metadata": {},
     "output_type": "execute_result"
    }
   ],
   "source": [
    "df=pd.read_csv('./ArticlesApril2018.csv')\n",
    "df.head()"
   ]
  },
  {
   "cell_type": "code",
   "execution_count": 23,
   "id": "funny-footwear",
   "metadata": {},
   "outputs": [
    {
     "name": "stdout",
     "output_type": "stream",
     "text": [
      "열의 개수:  15\n",
      "Index(['articleID', 'articleWordCount', 'byline', 'documentType', 'headline',\n",
      "       'keywords', 'multimedia', 'newDesk', 'printPage', 'pubDate',\n",
      "       'sectionName', 'snippet', 'source', 'typeOfMaterial', 'webURL'],\n",
      "      dtype='object')\n"
     ]
    }
   ],
   "source": [
    "print('열의 개수: ',len(df.columns))\n",
    "print(df.columns)"
   ]
  },
  {
   "cell_type": "code",
   "execution_count": 24,
   "id": "composed-price",
   "metadata": {},
   "outputs": [
    {
     "data": {
      "text/plain": [
       "False"
      ]
     },
     "execution_count": 24,
     "metadata": {},
     "output_type": "execute_result"
    }
   ],
   "source": [
    "df['headline'].isnull().values.any()"
   ]
  },
  {
   "cell_type": "code",
   "execution_count": 25,
   "id": "unlike-pocket",
   "metadata": {},
   "outputs": [
    {
     "data": {
      "text/plain": [
       "['Former N.F.L. Cheerleaders’ Settlement Offer: $1 and a Meeting With Goodell',\n",
       " 'E.P.A. to Unveil a New Rule. Its Effect: Less Science in Policymaking.',\n",
       " 'The New Noma, Explained',\n",
       " 'Unknown',\n",
       " 'Unknown']"
      ]
     },
     "execution_count": 25,
     "metadata": {},
     "output_type": "execute_result"
    }
   ],
   "source": [
    "headline = [] # 리스트 선언\n",
    "headline.extend(list(df.headline.values)) # 헤드라인의 값들을 리스트로 저장\n",
    "headline[:5] # 상위 5개만 출력"
   ]
  },
  {
   "cell_type": "code",
   "execution_count": 26,
   "id": "innocent-crash",
   "metadata": {},
   "outputs": [
    {
     "name": "stdout",
     "output_type": "stream",
     "text": [
      "총 샘플의 개수 : 1324\n"
     ]
    }
   ],
   "source": [
    "print('총 샘플의 개수 : {}'.format(len(headline))) # 현재 샘플의 개수"
   ]
  },
  {
   "cell_type": "code",
   "execution_count": 27,
   "id": "environmental-effect",
   "metadata": {},
   "outputs": [
    {
     "name": "stdout",
     "output_type": "stream",
     "text": [
      "노이즈값 제거 후 샘플의 개수 : 1214\n"
     ]
    }
   ],
   "source": [
    "headline = [n for n in headline if n != \"Unknown\"] # Unknown 값을 가진 샘플 제거\n",
    "print('노이즈값 제거 후 샘플의 개수 : {}'.format(len(headline))) # 제거 후 샘플의 개수"
   ]
  },
  {
   "cell_type": "code",
   "execution_count": 28,
   "id": "military-sympathy",
   "metadata": {},
   "outputs": [
    {
     "data": {
      "text/plain": [
       "['Former N.F.L. Cheerleaders’ Settlement Offer: $1 and a Meeting With Goodell',\n",
       " 'E.P.A. to Unveil a New Rule. Its Effect: Less Science in Policymaking.',\n",
       " 'The New Noma, Explained',\n",
       " 'How a Bag of Texas Dirt  Became a Times Tradition',\n",
       " 'Is School a Place for Self-Expression?']"
      ]
     },
     "execution_count": 28,
     "metadata": {},
     "output_type": "execute_result"
    }
   ],
   "source": [
    "headline[:5]"
   ]
  },
  {
   "cell_type": "code",
   "execution_count": 29,
   "id": "hungarian-polls",
   "metadata": {},
   "outputs": [
    {
     "data": {
      "text/plain": [
       "['former nfl cheerleaders settlement offer 1 and a meeting with goodell',\n",
       " 'epa to unveil a new rule its effect less science in policymaking',\n",
       " 'the new noma explained',\n",
       " 'how a bag of texas dirt  became a times tradition',\n",
       " 'is school a place for selfexpression']"
      ]
     },
     "execution_count": 29,
     "metadata": {},
     "output_type": "execute_result"
    }
   ],
   "source": [
    "def repreprocessing(s):\n",
    "    s=s.encode(\"utf8\").decode(\"ascii\",'ignore')\n",
    "    return ''.join(c for c in s if c not in punctuation).lower() # 구두점 제거와 동시에 소문자화\n",
    "\n",
    "text = [repreprocessing(x) for x in headline]\n",
    "text[:5]"
   ]
  },
  {
   "cell_type": "code",
   "execution_count": 30,
   "id": "seeing-portfolio",
   "metadata": {},
   "outputs": [
    {
     "name": "stdout",
     "output_type": "stream",
     "text": [
      "단어 집합의 크기 : 3494\n"
     ]
    }
   ],
   "source": [
    "t = Tokenizer()\n",
    "t.fit_on_texts(text)\n",
    "vocab_size = len(t.word_index) + 1\n",
    "print('단어 집합의 크기 : %d' % vocab_size)"
   ]
  },
  {
   "cell_type": "code",
   "execution_count": 31,
   "id": "graduate-resistance",
   "metadata": {},
   "outputs": [
    {
     "data": {
      "text/plain": [
       "[[99, 269],\n",
       " [99, 269, 371],\n",
       " [99, 269, 371, 1115],\n",
       " [99, 269, 371, 1115, 582],\n",
       " [99, 269, 371, 1115, 582, 52],\n",
       " [99, 269, 371, 1115, 582, 52, 7],\n",
       " [99, 269, 371, 1115, 582, 52, 7, 2],\n",
       " [99, 269, 371, 1115, 582, 52, 7, 2, 372],\n",
       " [99, 269, 371, 1115, 582, 52, 7, 2, 372, 10],\n",
       " [99, 269, 371, 1115, 582, 52, 7, 2, 372, 10, 1116],\n",
       " [100, 3]]"
      ]
     },
     "execution_count": 31,
     "metadata": {},
     "output_type": "execute_result"
    }
   ],
   "source": [
    "sequences = list()\n",
    "\n",
    "for line in text: # 1,214 개의 샘플에 대해서 샘플을 1개씩 가져온다.\n",
    "    encoded = t.texts_to_sequences([line])[0] # 각 샘플에 대한 정수 인코딩\n",
    "    for i in range(1, len(encoded)):\n",
    "        sequence = encoded[:i+1]\n",
    "        sequences.append(sequence)\n",
    "\n",
    "sequences[:11] # 11개의 샘플 출력"
   ]
  },
  {
   "cell_type": "code",
   "execution_count": 32,
   "id": "informational-detector",
   "metadata": {},
   "outputs": [
    {
     "name": "stdout",
     "output_type": "stream",
     "text": [
      "빈도수 상위 582번 단어 : offer\n"
     ]
    }
   ],
   "source": [
    "index_to_word={}\n",
    "for key, value in t.word_index.items(): # 인덱스를 단어로 바꾸기 위해 index_to_word를 생성\n",
    "    index_to_word[value] = key\n",
    "\n",
    "print('빈도수 상위 582번 단어 : {}'.format(index_to_word[582]))"
   ]
  },
  {
   "cell_type": "code",
   "execution_count": 33,
   "id": "empirical-plasma",
   "metadata": {},
   "outputs": [
    {
     "name": "stdout",
     "output_type": "stream",
     "text": [
      "샘플의 최대 길이 : 24\n"
     ]
    }
   ],
   "source": [
    "max_len=max(len(l) for l in sequences)\n",
    "print('샘플의 최대 길이 : {}'.format(max_len))"
   ]
  },
  {
   "cell_type": "code",
   "execution_count": 34,
   "id": "broadband-copying",
   "metadata": {},
   "outputs": [
    {
     "name": "stdout",
     "output_type": "stream",
     "text": [
      "[[   0    0    0    0    0    0    0    0    0    0    0    0    0    0\n",
      "     0    0    0    0    0    0    0    0   99  269]\n",
      " [   0    0    0    0    0    0    0    0    0    0    0    0    0    0\n",
      "     0    0    0    0    0    0    0   99  269  371]\n",
      " [   0    0    0    0    0    0    0    0    0    0    0    0    0    0\n",
      "     0    0    0    0    0    0   99  269  371 1115]]\n"
     ]
    }
   ],
   "source": [
    "sequences = pad_sequences(sequences, maxlen=max_len, padding='pre')\n",
    "print(sequences[:3])"
   ]
  },
  {
   "cell_type": "code",
   "execution_count": 35,
   "id": "successful-detection",
   "metadata": {},
   "outputs": [],
   "source": [
    "sequences = np.array(sequences)\n",
    "X = sequences[:,:-1]\n",
    "y = sequences[:,-1]"
   ]
  },
  {
   "cell_type": "code",
   "execution_count": 36,
   "id": "adequate-emergency",
   "metadata": {},
   "outputs": [],
   "source": [
    "y = to_categorical(y, num_classes=vocab_size)"
   ]
  },
  {
   "cell_type": "code",
   "execution_count": 37,
   "id": "dressed-mistake",
   "metadata": {},
   "outputs": [],
   "source": [
    "from tensorflow.keras.models import Sequential\n",
    "from tensorflow.keras.layers import Embedding, Dense, LSTM"
   ]
  },
  {
   "cell_type": "code",
   "execution_count": 38,
   "id": "secret-correction",
   "metadata": {},
   "outputs": [
    {
     "name": "stdout",
     "output_type": "stream",
     "text": [
      "Epoch 1/200\n",
      "244/244 - 3s - loss: 7.6347 - accuracy: 0.0286\n",
      "Epoch 2/200\n",
      "244/244 - 1s - loss: 7.1153 - accuracy: 0.0299\n",
      "Epoch 3/200\n",
      "244/244 - 1s - loss: 6.9774 - accuracy: 0.0340\n",
      "Epoch 4/200\n",
      "244/244 - 1s - loss: 6.8529 - accuracy: 0.0411\n",
      "Epoch 5/200\n",
      "244/244 - 1s - loss: 6.7132 - accuracy: 0.0433\n",
      "Epoch 6/200\n",
      "244/244 - 1s - loss: 6.5493 - accuracy: 0.0482\n",
      "Epoch 7/200\n",
      "244/244 - 1s - loss: 6.3871 - accuracy: 0.0536\n",
      "Epoch 8/200\n",
      "244/244 - 1s - loss: 6.1870 - accuracy: 0.0547\n",
      "Epoch 9/200\n",
      "244/244 - 1s - loss: 5.9919 - accuracy: 0.0613\n",
      "Epoch 10/200\n",
      "244/244 - 1s - loss: 5.8008 - accuracy: 0.0664\n",
      "Epoch 11/200\n",
      "244/244 - 1s - loss: 5.6208 - accuracy: 0.0698\n",
      "Epoch 12/200\n",
      "244/244 - 1s - loss: 5.4503 - accuracy: 0.0757\n",
      "Epoch 13/200\n",
      "244/244 - 1s - loss: 5.2895 - accuracy: 0.0811\n",
      "Epoch 14/200\n",
      "244/244 - 1s - loss: 5.1382 - accuracy: 0.0871\n",
      "Epoch 15/200\n",
      "244/244 - 1s - loss: 4.9923 - accuracy: 0.0946\n",
      "Epoch 16/200\n",
      "244/244 - 1s - loss: 4.8537 - accuracy: 0.1068\n",
      "Epoch 17/200\n",
      "244/244 - 1s - loss: 4.7193 - accuracy: 0.1171\n",
      "Epoch 18/200\n",
      "244/244 - 1s - loss: 4.5866 - accuracy: 0.1316\n",
      "Epoch 19/200\n",
      "244/244 - 1s - loss: 4.4631 - accuracy: 0.1444\n",
      "Epoch 20/200\n",
      "244/244 - 1s - loss: 4.3418 - accuracy: 0.1624\n",
      "Epoch 21/200\n",
      "244/244 - 1s - loss: 4.2209 - accuracy: 0.1745\n",
      "Epoch 22/200\n",
      "244/244 - 1s - loss: 4.1059 - accuracy: 0.1935\n",
      "Epoch 23/200\n",
      "244/244 - 1s - loss: 3.9944 - accuracy: 0.2112\n",
      "Epoch 24/200\n",
      "244/244 - 1s - loss: 3.8844 - accuracy: 0.2290\n",
      "Epoch 25/200\n",
      "244/244 - 1s - loss: 3.7804 - accuracy: 0.2459\n",
      "Epoch 26/200\n",
      "244/244 - 1s - loss: 3.6797 - accuracy: 0.2661\n",
      "Epoch 27/200\n",
      "244/244 - 1s - loss: 3.5803 - accuracy: 0.2840\n",
      "Epoch 28/200\n",
      "244/244 - 1s - loss: 3.4827 - accuracy: 0.2995\n",
      "Epoch 29/200\n",
      "244/244 - 1s - loss: 3.3902 - accuracy: 0.3148\n",
      "Epoch 30/200\n",
      "244/244 - 1s - loss: 3.3011 - accuracy: 0.3306\n",
      "Epoch 31/200\n",
      "244/244 - 1s - loss: 3.2157 - accuracy: 0.3499\n",
      "Epoch 32/200\n",
      "244/244 - 1s - loss: 3.1304 - accuracy: 0.3642\n",
      "Epoch 33/200\n",
      "244/244 - 1s - loss: 3.0492 - accuracy: 0.3868\n",
      "Epoch 34/200\n",
      "244/244 - 1s - loss: 2.9699 - accuracy: 0.3956\n",
      "Epoch 35/200\n",
      "244/244 - 1s - loss: 2.8926 - accuracy: 0.4118\n",
      "Epoch 36/200\n",
      "244/244 - 1s - loss: 2.8206 - accuracy: 0.4232\n",
      "Epoch 37/200\n",
      "244/244 - 1s - loss: 2.7497 - accuracy: 0.4403\n",
      "Epoch 38/200\n",
      "244/244 - 1s - loss: 2.6802 - accuracy: 0.4521\n",
      "Epoch 39/200\n",
      "244/244 - 1s - loss: 2.6141 - accuracy: 0.4606\n",
      "Epoch 40/200\n",
      "244/244 - 1s - loss: 2.5490 - accuracy: 0.4794\n",
      "Epoch 41/200\n",
      "244/244 - 1s - loss: 2.4862 - accuracy: 0.4870\n",
      "Epoch 42/200\n",
      "244/244 - 1s - loss: 2.4242 - accuracy: 0.4981\n",
      "Epoch 43/200\n",
      "244/244 - 1s - loss: 2.3650 - accuracy: 0.5143\n",
      "Epoch 44/200\n",
      "244/244 - 1s - loss: 2.3074 - accuracy: 0.5263\n",
      "Epoch 45/200\n",
      "244/244 - 1s - loss: 2.2525 - accuracy: 0.5334\n",
      "Epoch 46/200\n",
      "244/244 - 1s - loss: 2.1958 - accuracy: 0.5507\n",
      "Epoch 47/200\n",
      "244/244 - 1s - loss: 2.1441 - accuracy: 0.5623\n",
      "Epoch 48/200\n",
      "244/244 - 1s - loss: 2.0914 - accuracy: 0.5714\n",
      "Epoch 49/200\n",
      "244/244 - 1s - loss: 2.0423 - accuracy: 0.5795\n",
      "Epoch 50/200\n",
      "244/244 - 1s - loss: 2.0359 - accuracy: 0.5840\n",
      "Epoch 51/200\n",
      "244/244 - 1s - loss: 1.9597 - accuracy: 0.6016\n",
      "Epoch 52/200\n",
      "244/244 - 1s - loss: 1.9045 - accuracy: 0.6130\n",
      "Epoch 53/200\n",
      "244/244 - 1s - loss: 1.8583 - accuracy: 0.6237\n",
      "Epoch 54/200\n",
      "244/244 - 1s - loss: 1.8166 - accuracy: 0.6308\n",
      "Epoch 55/200\n",
      "244/244 - 1s - loss: 1.7729 - accuracy: 0.6435\n",
      "Epoch 56/200\n",
      "244/244 - 1s - loss: 1.7286 - accuracy: 0.6509\n",
      "Epoch 57/200\n",
      "244/244 - 1s - loss: 1.6894 - accuracy: 0.6622\n",
      "Epoch 58/200\n",
      "244/244 - 1s - loss: 1.6476 - accuracy: 0.6690\n",
      "Epoch 59/200\n",
      "244/244 - 1s - loss: 1.6072 - accuracy: 0.6746\n",
      "Epoch 60/200\n",
      "244/244 - 1s - loss: 1.5689 - accuracy: 0.6847\n",
      "Epoch 61/200\n",
      "244/244 - 1s - loss: 1.5330 - accuracy: 0.6933\n",
      "Epoch 62/200\n",
      "244/244 - 1s - loss: 1.4962 - accuracy: 0.6991\n",
      "Epoch 63/200\n",
      "244/244 - 1s - loss: 1.4573 - accuracy: 0.7100\n",
      "Epoch 64/200\n",
      "244/244 - 1s - loss: 1.4251 - accuracy: 0.7134\n",
      "Epoch 65/200\n",
      "244/244 - 1s - loss: 1.3899 - accuracy: 0.7252\n",
      "Epoch 66/200\n",
      "244/244 - 1s - loss: 1.3543 - accuracy: 0.7350\n",
      "Epoch 67/200\n",
      "244/244 - 1s - loss: 1.3200 - accuracy: 0.7384\n",
      "Epoch 68/200\n",
      "244/244 - 1s - loss: 1.2881 - accuracy: 0.7480\n",
      "Epoch 69/200\n",
      "244/244 - 1s - loss: 1.2564 - accuracy: 0.7574\n",
      "Epoch 70/200\n",
      "244/244 - 1s - loss: 1.2255 - accuracy: 0.7611\n",
      "Epoch 71/200\n",
      "244/244 - 1s - loss: 1.1970 - accuracy: 0.7669\n",
      "Epoch 72/200\n",
      "244/244 - 1s - loss: 1.1649 - accuracy: 0.7764\n",
      "Epoch 73/200\n",
      "244/244 - 1s - loss: 1.1366 - accuracy: 0.7793\n",
      "Epoch 74/200\n",
      "244/244 - 1s - loss: 1.1099 - accuracy: 0.7866\n",
      "Epoch 75/200\n",
      "244/244 - 1s - loss: 1.0811 - accuracy: 0.7897\n",
      "Epoch 76/200\n",
      "244/244 - 1s - loss: 1.0520 - accuracy: 0.7950\n",
      "Epoch 77/200\n",
      "244/244 - 1s - loss: 1.0295 - accuracy: 0.8014\n",
      "Epoch 78/200\n",
      "244/244 - 1s - loss: 1.0009 - accuracy: 0.8075\n",
      "Epoch 79/200\n",
      "244/244 - 1s - loss: 0.9765 - accuracy: 0.8110\n",
      "Epoch 80/200\n",
      "244/244 - 1s - loss: 0.9506 - accuracy: 0.8158\n",
      "Epoch 81/200\n",
      "244/244 - 1s - loss: 0.9297 - accuracy: 0.8220\n",
      "Epoch 82/200\n",
      "244/244 - 1s - loss: 0.9074 - accuracy: 0.8226\n",
      "Epoch 83/200\n",
      "244/244 - 1s - loss: 0.8820 - accuracy: 0.8343\n",
      "Epoch 84/200\n",
      "244/244 - 1s - loss: 0.8623 - accuracy: 0.8319\n",
      "Epoch 85/200\n",
      "244/244 - 1s - loss: 0.8398 - accuracy: 0.8369\n",
      "Epoch 86/200\n",
      "244/244 - 1s - loss: 0.8208 - accuracy: 0.8420\n",
      "Epoch 87/200\n",
      "244/244 - 1s - loss: 0.8007 - accuracy: 0.8434\n",
      "Epoch 88/200\n",
      "244/244 - 1s - loss: 0.7830 - accuracy: 0.8467\n",
      "Epoch 89/200\n",
      "244/244 - 1s - loss: 0.7615 - accuracy: 0.8495\n",
      "Epoch 90/200\n",
      "244/244 - 1s - loss: 0.7455 - accuracy: 0.8562\n",
      "Epoch 91/200\n",
      "244/244 - 1s - loss: 0.7277 - accuracy: 0.8602\n",
      "Epoch 92/200\n",
      "244/244 - 1s - loss: 0.7089 - accuracy: 0.8629\n",
      "Epoch 93/200\n",
      "244/244 - 1s - loss: 0.6934 - accuracy: 0.8665\n",
      "Epoch 94/200\n",
      "244/244 - 1s - loss: 0.6765 - accuracy: 0.8695\n",
      "Epoch 95/200\n",
      "244/244 - 1s - loss: 0.6619 - accuracy: 0.8697\n",
      "Epoch 96/200\n",
      "244/244 - 1s - loss: 0.6471 - accuracy: 0.8724\n",
      "Epoch 97/200\n",
      "244/244 - 1s - loss: 0.6325 - accuracy: 0.8780\n",
      "Epoch 98/200\n",
      "244/244 - 1s - loss: 0.6180 - accuracy: 0.8794\n",
      "Epoch 99/200\n",
      "244/244 - 1s - loss: 0.6048 - accuracy: 0.8804\n",
      "Epoch 100/200\n",
      "244/244 - 1s - loss: 0.5912 - accuracy: 0.8848\n",
      "Epoch 101/200\n",
      "244/244 - 1s - loss: 0.5787 - accuracy: 0.8863\n",
      "Epoch 102/200\n",
      "244/244 - 1s - loss: 0.5657 - accuracy: 0.8880\n",
      "Epoch 103/200\n",
      "244/244 - 1s - loss: 0.5523 - accuracy: 0.8904\n",
      "Epoch 104/200\n",
      "244/244 - 1s - loss: 0.5393 - accuracy: 0.8929\n",
      "Epoch 105/200\n",
      "244/244 - 1s - loss: 0.5286 - accuracy: 0.8939\n",
      "Epoch 106/200\n",
      "244/244 - 1s - loss: 0.5178 - accuracy: 0.8967\n",
      "Epoch 107/200\n",
      "244/244 - 1s - loss: 0.5081 - accuracy: 0.8973\n",
      "Epoch 108/200\n",
      "244/244 - 1s - loss: 0.4965 - accuracy: 0.8991\n",
      "Epoch 109/200\n",
      "244/244 - 1s - loss: 0.4885 - accuracy: 0.9002\n",
      "Epoch 110/200\n",
      "244/244 - 1s - loss: 0.4792 - accuracy: 0.9004\n",
      "Epoch 111/200\n",
      "244/244 - 1s - loss: 0.4684 - accuracy: 0.9048\n",
      "Epoch 112/200\n",
      "244/244 - 1s - loss: 0.4609 - accuracy: 0.9035\n",
      "Epoch 113/200\n",
      "244/244 - 1s - loss: 0.4503 - accuracy: 0.9043\n",
      "Epoch 114/200\n",
      "244/244 - 1s - loss: 0.4402 - accuracy: 0.9084\n",
      "Epoch 115/200\n",
      "244/244 - 1s - loss: 0.4342 - accuracy: 0.9085\n",
      "Epoch 116/200\n",
      "244/244 - 1s - loss: 0.4251 - accuracy: 0.9075\n",
      "Epoch 117/200\n",
      "244/244 - 1s - loss: 0.4194 - accuracy: 0.9095\n",
      "Epoch 118/200\n",
      "244/244 - 1s - loss: 0.4121 - accuracy: 0.9098\n",
      "Epoch 119/200\n",
      "244/244 - 1s - loss: 0.4062 - accuracy: 0.9109\n",
      "Epoch 120/200\n",
      "244/244 - 1s - loss: 0.3987 - accuracy: 0.9121\n",
      "Epoch 121/200\n",
      "244/244 - 1s - loss: 0.3941 - accuracy: 0.9109\n",
      "Epoch 122/200\n",
      "244/244 - 1s - loss: 0.4012 - accuracy: 0.9093\n",
      "Epoch 123/200\n",
      "244/244 - 1s - loss: 0.3903 - accuracy: 0.9116\n",
      "Epoch 124/200\n",
      "244/244 - 1s - loss: 0.3769 - accuracy: 0.9123\n",
      "Epoch 125/200\n",
      "244/244 - 1s - loss: 0.3691 - accuracy: 0.9130\n",
      "Epoch 126/200\n",
      "244/244 - 1s - loss: 0.3630 - accuracy: 0.9138\n",
      "Epoch 127/200\n",
      "244/244 - 1s - loss: 0.3577 - accuracy: 0.9146\n",
      "Epoch 128/200\n",
      "244/244 - 1s - loss: 0.3552 - accuracy: 0.9138\n",
      "Epoch 129/200\n",
      "244/244 - 1s - loss: 0.3505 - accuracy: 0.9144\n",
      "Epoch 130/200\n",
      "244/244 - 1s - loss: 0.3470 - accuracy: 0.9150\n",
      "Epoch 131/200\n",
      "244/244 - 1s - loss: 0.3430 - accuracy: 0.9146\n",
      "Epoch 132/200\n",
      "244/244 - 1s - loss: 0.3381 - accuracy: 0.9163\n",
      "Epoch 133/200\n",
      "244/244 - 1s - loss: 0.3358 - accuracy: 0.9153\n",
      "Epoch 134/200\n",
      "244/244 - 1s - loss: 0.3400 - accuracy: 0.9145\n",
      "Epoch 135/200\n",
      "244/244 - 1s - loss: 0.3353 - accuracy: 0.9161\n",
      "Epoch 136/200\n",
      "244/244 - 1s - loss: 0.3248 - accuracy: 0.9173\n",
      "Epoch 137/200\n"
     ]
    },
    {
     "name": "stdout",
     "output_type": "stream",
     "text": [
      "244/244 - 1s - loss: 0.3227 - accuracy: 0.9150\n",
      "Epoch 138/200\n",
      "244/244 - 1s - loss: 0.3192 - accuracy: 0.9167\n",
      "Epoch 139/200\n",
      "244/244 - 1s - loss: 0.3165 - accuracy: 0.9168\n",
      "Epoch 140/200\n",
      "244/244 - 1s - loss: 0.3136 - accuracy: 0.9171\n",
      "Epoch 141/200\n",
      "244/244 - 1s - loss: 0.3116 - accuracy: 0.9180\n",
      "Epoch 142/200\n",
      "244/244 - 1s - loss: 0.3095 - accuracy: 0.9163\n",
      "Epoch 143/200\n",
      "244/244 - 1s - loss: 0.3101 - accuracy: 0.9168\n",
      "Epoch 144/200\n",
      "244/244 - 1s - loss: 0.3067 - accuracy: 0.9164\n",
      "Epoch 145/200\n",
      "244/244 - 1s - loss: 0.3026 - accuracy: 0.9191\n",
      "Epoch 146/200\n",
      "244/244 - 1s - loss: 0.3012 - accuracy: 0.9164\n",
      "Epoch 147/200\n",
      "244/244 - 1s - loss: 0.2967 - accuracy: 0.9162\n",
      "Epoch 148/200\n",
      "244/244 - 1s - loss: 0.2955 - accuracy: 0.9180\n",
      "Epoch 149/200\n",
      "244/244 - 1s - loss: 0.2978 - accuracy: 0.9163\n",
      "Epoch 150/200\n",
      "244/244 - 1s - loss: 0.2995 - accuracy: 0.9167\n",
      "Epoch 151/200\n",
      "244/244 - 1s - loss: 0.2952 - accuracy: 0.9152\n",
      "Epoch 152/200\n",
      "244/244 - 1s - loss: 0.2914 - accuracy: 0.9157\n",
      "Epoch 153/200\n",
      "244/244 - 1s - loss: 0.2886 - accuracy: 0.9167\n",
      "Epoch 154/200\n",
      "244/244 - 1s - loss: 0.2869 - accuracy: 0.9157\n",
      "Epoch 155/200\n",
      "244/244 - 1s - loss: 0.2858 - accuracy: 0.9170\n",
      "Epoch 156/200\n",
      "244/244 - 1s - loss: 0.2845 - accuracy: 0.9175\n",
      "Epoch 157/200\n",
      "244/244 - 1s - loss: 0.2835 - accuracy: 0.9168\n",
      "Epoch 158/200\n",
      "244/244 - 1s - loss: 0.2834 - accuracy: 0.9166\n",
      "Epoch 159/200\n",
      "244/244 - 1s - loss: 0.2823 - accuracy: 0.9164\n",
      "Epoch 160/200\n",
      "244/244 - 1s - loss: 0.2821 - accuracy: 0.9163\n",
      "Epoch 161/200\n",
      "244/244 - 1s - loss: 0.2825 - accuracy: 0.9166\n",
      "Epoch 162/200\n",
      "244/244 - 1s - loss: 0.2784 - accuracy: 0.9175\n",
      "Epoch 163/200\n",
      "244/244 - 1s - loss: 0.2789 - accuracy: 0.9176\n",
      "Epoch 164/200\n",
      "244/244 - 1s - loss: 0.2856 - accuracy: 0.9150\n",
      "Epoch 165/200\n",
      "244/244 - 1s - loss: 0.2911 - accuracy: 0.9132\n",
      "Epoch 166/200\n",
      "244/244 - 1s - loss: 0.2970 - accuracy: 0.9138\n",
      "Epoch 167/200\n",
      "244/244 - 1s - loss: 0.2878 - accuracy: 0.9157\n",
      "Epoch 168/200\n",
      "244/244 - 1s - loss: 0.2756 - accuracy: 0.9175\n",
      "Epoch 169/200\n",
      "244/244 - 1s - loss: 0.2736 - accuracy: 0.9173\n",
      "Epoch 170/200\n",
      "244/244 - 1s - loss: 0.2702 - accuracy: 0.9184\n",
      "Epoch 171/200\n",
      "244/244 - 1s - loss: 0.2709 - accuracy: 0.9170\n",
      "Epoch 172/200\n",
      "244/244 - 1s - loss: 0.2700 - accuracy: 0.9157\n",
      "Epoch 173/200\n",
      "244/244 - 1s - loss: 0.2701 - accuracy: 0.9167\n",
      "Epoch 174/200\n",
      "244/244 - 1s - loss: 0.2695 - accuracy: 0.9167\n",
      "Epoch 175/200\n",
      "244/244 - 1s - loss: 0.2698 - accuracy: 0.9167\n",
      "Epoch 176/200\n",
      "244/244 - 1s - loss: 0.2682 - accuracy: 0.9162\n",
      "Epoch 177/200\n",
      "244/244 - 1s - loss: 0.2685 - accuracy: 0.9173\n",
      "Epoch 178/200\n",
      "244/244 - 1s - loss: 0.2685 - accuracy: 0.9164\n",
      "Epoch 179/200\n",
      "244/244 - 1s - loss: 0.2678 - accuracy: 0.9171\n",
      "Epoch 180/200\n",
      "244/244 - 1s - loss: 0.2686 - accuracy: 0.9159\n",
      "Epoch 181/200\n",
      "244/244 - 1s - loss: 0.2667 - accuracy: 0.9175\n",
      "Epoch 182/200\n",
      "244/244 - 1s - loss: 0.2656 - accuracy: 0.9175\n",
      "Epoch 183/200\n",
      "244/244 - 1s - loss: 0.2671 - accuracy: 0.9161\n",
      "Epoch 184/200\n",
      "244/244 - 1s - loss: 0.2662 - accuracy: 0.9173\n",
      "Epoch 185/200\n",
      "244/244 - 1s - loss: 0.2649 - accuracy: 0.9158\n",
      "Epoch 186/200\n",
      "244/244 - 1s - loss: 0.2654 - accuracy: 0.9153\n",
      "Epoch 187/200\n",
      "244/244 - 1s - loss: 0.2652 - accuracy: 0.9154\n",
      "Epoch 188/200\n",
      "244/244 - 1s - loss: 0.2649 - accuracy: 0.9153\n",
      "Epoch 189/200\n",
      "244/244 - 1s - loss: 0.2832 - accuracy: 0.9126\n",
      "Epoch 190/200\n",
      "244/244 - 1s - loss: 0.2781 - accuracy: 0.9161\n",
      "Epoch 191/200\n",
      "244/244 - 1s - loss: 0.2698 - accuracy: 0.9144\n",
      "Epoch 192/200\n",
      "244/244 - 1s - loss: 0.2634 - accuracy: 0.9161\n",
      "Epoch 193/200\n",
      "244/244 - 1s - loss: 0.2622 - accuracy: 0.9176\n",
      "Epoch 194/200\n",
      "244/244 - 1s - loss: 0.2617 - accuracy: 0.9171\n",
      "Epoch 195/200\n",
      "244/244 - 1s - loss: 0.2608 - accuracy: 0.9167\n",
      "Epoch 196/200\n",
      "244/244 - 1s - loss: 0.2607 - accuracy: 0.9163\n",
      "Epoch 197/200\n",
      "244/244 - 1s - loss: 0.2616 - accuracy: 0.9163\n",
      "Epoch 198/200\n",
      "244/244 - 1s - loss: 0.2605 - accuracy: 0.9159\n",
      "Epoch 199/200\n",
      "244/244 - 1s - loss: 0.2610 - accuracy: 0.9167\n",
      "Epoch 200/200\n",
      "244/244 - 1s - loss: 0.2602 - accuracy: 0.9167\n"
     ]
    },
    {
     "data": {
      "text/plain": [
       "<tensorflow.python.keras.callbacks.History at 0x165a2092100>"
      ]
     },
     "execution_count": 38,
     "metadata": {},
     "output_type": "execute_result"
    }
   ],
   "source": [
    "model = Sequential()\n",
    "model.add(Embedding(vocab_size, 10, input_length=max_len-1))\n",
    "# y데이터를 분리하였으므로 이제 X데이터의 길이는 기존 데이터의 길이 - 1\n",
    "model.add(LSTM(128))\n",
    "model.add(Dense(vocab_size, activation='softmax'))\n",
    "model.compile(loss='categorical_crossentropy', optimizer='adam', metrics=['accuracy'])\n",
    "model.fit(X, y, epochs=200, verbose=2)"
   ]
  },
  {
   "cell_type": "code",
   "execution_count": 39,
   "id": "cleared-scheme",
   "metadata": {},
   "outputs": [],
   "source": [
    "def sentence_generation(model, t, current_word, n): # 모델, 토크나이저, 현재 단어, 반복할 횟수\n",
    "    init_word = current_word # 처음 들어온 단어도 마지막에 같이 출력하기위해 저장\n",
    "    sentence = ''\n",
    "    for _ in range(n): # n번 반복\n",
    "        encoded = t.texts_to_sequences([current_word])[0] # 현재 단어에 대한 정수 인코딩\n",
    "        encoded = pad_sequences([encoded], maxlen=23, padding='pre') # 데이터에 대한 패딩\n",
    "        result = model.predict_classes(encoded, verbose=0)\n",
    "    # 입력한 X(현재 단어)에 대해서 y를 예측하고 y(예측한 단어)를 result에 저장.\n",
    "        for word, index in t.word_index.items(): \n",
    "            if index == result: # 만약 예측한 단어와 인덱스와 동일한 단어가 있다면\n",
    "                break # 해당 단어가 예측 단어이므로 break\n",
    "        current_word = current_word + ' '  + word # 현재 단어 + ' ' + 예측 단어를 현재 단어로 변경\n",
    "        sentence = sentence + ' ' + word # 예측 단어를 문장에 저장\n",
    "    # for문이므로 이 행동을 다시 반복\n",
    "    sentence = init_word + sentence\n",
    "    return sentence"
   ]
  },
  {
   "cell_type": "code",
   "execution_count": 40,
   "id": "anticipated-privilege",
   "metadata": {},
   "outputs": [
    {
     "name": "stderr",
     "output_type": "stream",
     "text": [
      "c:\\users\\윤보경\\appdata\\local\\programs\\python\\python38\\lib\\site-packages\\tensorflow\\python\\keras\\engine\\sequential.py:450: UserWarning: `model.predict_classes()` is deprecated and will be removed after 2021-01-01. Please use instead:* `np.argmax(model.predict(x), axis=-1)`,   if your model does multi-class classification   (e.g. if it uses a `softmax` last-layer activation).* `(model.predict(x) > 0.5).astype(\"int32\")`,   if your model does binary classification   (e.g. if it uses a `sigmoid` last-layer activation).\n",
      "  warnings.warn('`model.predict_classes()` is deprecated and '\n"
     ]
    },
    {
     "name": "stdout",
     "output_type": "stream",
     "text": [
      "i disapprove of school vouchers can i still apply for them\n"
     ]
    }
   ],
   "source": [
    "print(sentence_generation(model, t, 'i', 10))\n",
    "# 임의의 단어 'i'에 대해서 10개의 단어를 추가 생성"
   ]
  },
  {
   "cell_type": "code",
   "execution_count": null,
   "id": "apparent-anthropology",
   "metadata": {},
   "outputs": [],
   "source": []
  }
 ],
 "metadata": {
  "kernelspec": {
   "display_name": "Python 3",
   "language": "python",
   "name": "python3"
  },
  "language_info": {
   "codemirror_mode": {
    "name": "ipython",
    "version": 3
   },
   "file_extension": ".py",
   "mimetype": "text/x-python",
   "name": "python",
   "nbconvert_exporter": "python",
   "pygments_lexer": "ipython3",
   "version": "3.8.6"
  }
 },
 "nbformat": 4,
 "nbformat_minor": 5
}
